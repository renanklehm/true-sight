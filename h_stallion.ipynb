{
 "cells": [
  {
   "cell_type": "code",
   "execution_count": 1,
   "metadata": {},
   "outputs": [],
   "source": [
    "import random\n",
    "import pandas as pd\n",
    "import numpy as np\n",
    "import tensorflow as tf\n",
    "from tqdm import tqdm\n",
    "from scipy import stats\n",
    "from truesight.preprocessing import Preprocessor\n",
    "from truesight.core import TrueSight\n",
    "from truesight.metrics import Evaluator, smape, mape, mse, rmse, mae\n",
    "from sklearn.metrics import r2_score\n",
    "from truesight.utils import generate_syntetic_data\n",
    "\n",
    "seed = 42\n",
    "random.seed(seed)\n",
    "np.random.seed(seed)\n",
    "tf.random.set_seed(seed)"
   ]
  },
  {
   "cell_type": "code",
   "execution_count": 2,
   "metadata": {},
   "outputs": [],
   "source": [
    "df = pd.read_csv('datasets\\\\Stallion\\\\train_OwBvO8W\\\\historical_volume.csv')\n",
    "df['YearMonth'] = pd.to_datetime(df['YearMonth'], format = '%Y%m')\n",
    "df.rename(columns = {'YearMonth': 'ds', 'Volume': 'y'}, inplace = True)\n",
    "df['unique_id'] = df['Agency'] + '-' + df['SKU']\n",
    "df = df[['unique_id', 'ds', 'y']]"
   ]
  },
  {
   "cell_type": "code",
   "execution_count": 3,
   "metadata": {},
   "outputs": [],
   "source": [
    "season_length = 12\n",
    "forecast_horizon = 12"
   ]
  },
  {
   "cell_type": "code",
   "execution_count": 6,
   "metadata": {},
   "outputs": [
    {
     "data": {
      "text/html": [
       "<div>\n",
       "<style scoped>\n",
       "    .dataframe tbody tr th:only-of-type {\n",
       "        vertical-align: middle;\n",
       "    }\n",
       "\n",
       "    .dataframe tbody tr th {\n",
       "        vertical-align: top;\n",
       "    }\n",
       "\n",
       "    .dataframe thead th {\n",
       "        text-align: right;\n",
       "    }\n",
       "</style>\n",
       "<table border=\"1\" class=\"dataframe\">\n",
       "  <thead>\n",
       "    <tr style=\"text-align: right;\">\n",
       "      <th></th>\n",
       "      <th>unique_id</th>\n",
       "      <th>ds</th>\n",
       "      <th>y</th>\n",
       "    </tr>\n",
       "  </thead>\n",
       "  <tbody>\n",
       "    <tr>\n",
       "      <th>0</th>\n",
       "      <td>Agency_22-SKU_01</td>\n",
       "      <td>2013-01-01</td>\n",
       "      <td>52.27200</td>\n",
       "    </tr>\n",
       "    <tr>\n",
       "      <th>1</th>\n",
       "      <td>Agency_22-SKU_02</td>\n",
       "      <td>2013-01-01</td>\n",
       "      <td>110.70000</td>\n",
       "    </tr>\n",
       "    <tr>\n",
       "      <th>2</th>\n",
       "      <td>Agency_58-SKU_23</td>\n",
       "      <td>2013-01-01</td>\n",
       "      <td>0.00000</td>\n",
       "    </tr>\n",
       "    <tr>\n",
       "      <th>3</th>\n",
       "      <td>Agency_48-SKU_07</td>\n",
       "      <td>2013-01-01</td>\n",
       "      <td>28.32000</td>\n",
       "    </tr>\n",
       "    <tr>\n",
       "      <th>4</th>\n",
       "      <td>Agency_22-SKU_05</td>\n",
       "      <td>2013-01-01</td>\n",
       "      <td>238.53870</td>\n",
       "    </tr>\n",
       "    <tr>\n",
       "      <th>...</th>\n",
       "      <td>...</td>\n",
       "      <td>...</td>\n",
       "      <td>...</td>\n",
       "    </tr>\n",
       "    <tr>\n",
       "      <th>20995</th>\n",
       "      <td>Agency_60-SKU_05</td>\n",
       "      <td>2017-09-01</td>\n",
       "      <td>1776.99525</td>\n",
       "    </tr>\n",
       "    <tr>\n",
       "      <th>20996</th>\n",
       "      <td>Agency_60-SKU_23</td>\n",
       "      <td>2017-09-01</td>\n",
       "      <td>1.26000</td>\n",
       "    </tr>\n",
       "    <tr>\n",
       "      <th>20997</th>\n",
       "      <td>Agency_60-SKU_04</td>\n",
       "      <td>2017-09-01</td>\n",
       "      <td>1142.59575</td>\n",
       "    </tr>\n",
       "    <tr>\n",
       "      <th>20998</th>\n",
       "      <td>Agency_32-SKU_02</td>\n",
       "      <td>2017-09-01</td>\n",
       "      <td>3456.43200</td>\n",
       "    </tr>\n",
       "    <tr>\n",
       "      <th>20999</th>\n",
       "      <td>Agency_32-SKU_05</td>\n",
       "      <td>2017-09-01</td>\n",
       "      <td>4174.97025</td>\n",
       "    </tr>\n",
       "  </tbody>\n",
       "</table>\n",
       "<p>21000 rows × 3 columns</p>\n",
       "</div>"
      ],
      "text/plain": [
       "              unique_id         ds           y\n",
       "0      Agency_22-SKU_01 2013-01-01    52.27200\n",
       "1      Agency_22-SKU_02 2013-01-01   110.70000\n",
       "2      Agency_58-SKU_23 2013-01-01     0.00000\n",
       "3      Agency_48-SKU_07 2013-01-01    28.32000\n",
       "4      Agency_22-SKU_05 2013-01-01   238.53870\n",
       "...                 ...        ...         ...\n",
       "20995  Agency_60-SKU_05 2017-09-01  1776.99525\n",
       "20996  Agency_60-SKU_23 2017-09-01     1.26000\n",
       "20997  Agency_60-SKU_04 2017-09-01  1142.59575\n",
       "20998  Agency_32-SKU_02 2017-09-01  3456.43200\n",
       "20999  Agency_32-SKU_05 2017-09-01  4174.97025\n",
       "\n",
       "[21000 rows x 3 columns]"
      ]
     },
     "execution_count": 6,
     "metadata": {},
     "output_type": "execute_result"
    }
   ],
   "source": [
    "df"
   ]
  },
  {
   "cell_type": "code",
   "execution_count": 4,
   "metadata": {},
   "outputs": [
    {
     "name": "stderr",
     "output_type": "stream",
     "text": [
      "100%|██████████| 280/280 [03:17<00:00,  1.42it/s]\n",
      "100%|██████████| 70/70 [00:38<00:00,  1.83it/s]\n"
     ]
    }
   ],
   "source": [
    "from statsforecast.models import SeasonalNaive, AutoETS, AutoARIMA\n",
    "from sklearn.linear_model import LinearRegression\n",
    "from truesight.utils import ModelWrapper\n",
    "\n",
    "models = [\n",
    "    ModelWrapper(LinearRegression, horizon=forecast_horizon, season_length=season_length, alias=\"LinearRegression\"),\n",
    "    ModelWrapper(AutoETS, horizon=forecast_horizon, season_length=season_length),\n",
    "    ModelWrapper(AutoARIMA, horizon=forecast_horizon, season_length=season_length),\n",
    "]\n",
    "\n",
    "preprocessor = Preprocessor(df)\n",
    "X_train, Y_train, ids_train, X_val, Y_val, ids_val, models = preprocessor.make_dataset(\n",
    "    forecast_horizon = forecast_horizon, \n",
    "    season_length = season_length,\n",
    "    date_freq = \"MS\", \n",
    "    models = models, \n",
    "    fallback_model = ModelWrapper(SeasonalNaive, horizon=forecast_horizon, season_length=season_length),\n",
    "    verbose = True\n",
    "    )"
   ]
  },
  {
   "cell_type": "code",
   "execution_count": null,
   "metadata": {},
   "outputs": [],
   "source": [
    "callbacks = [\n",
    "    tf.keras.callbacks.EarlyStopping(patience = 20, restore_best_weights = True, monitor = \"val_loss\"),\n",
    "    tf.keras.callbacks.ReduceLROnPlateau(monitor = \"val_loss\", factor = 0.5, patience = 10, verbose = False),\n",
    "]\n",
    "\n",
    "if True:\n",
    "    models_nocov = models[-1:]\n",
    "    X_train_nocov = X_train[-1:]\n",
    "    X_val_nocov = X_val[-1:]\n",
    "\n",
    "    optimizer = tf.keras.optimizers.Adam(learning_rate=0.0001)\n",
    "    ts_nocov = TrueSight(models_nocov, forecast_horizon, filter_size = 64, context_size = 256, hidden_size = 1024, dropout_rate = 0.1)\n",
    "    ts_nocov.compile(optimizer=optimizer, loss='mse')\n",
    "\n",
    "    ts_nocov.fit(\n",
    "        x = X_train_nocov, y = Y_train,\n",
    "        validation_data = [X_val_nocov, Y_val],\n",
    "        batch_size = 32,\n",
    "        epochs = 1000,\n",
    "        verbose = True,\n",
    "        callbacks = callbacks,\n",
    "    )\n",
    "    ts_nocov.plot_training_history()\n",
    "    ts_nocov.save_weights('nocov.h5')\n",
    "\n",
    "    models_wcov = models.copy()\n",
    "    X_train_wcov = X_train.copy()\n",
    "    X_val_wcov = X_val.copy()\n",
    "\n",
    "    optimizer = tf.keras.optimizers.Adam(learning_rate=0.0001)\n",
    "    ts_wcov= TrueSight(models_wcov, forecast_horizon, filter_size = 64, context_size = 256, hidden_size = 1024, dropout_rate = 0.1)\n",
    "    ts_wcov.compile(optimizer=optimizer, loss='mse')\n",
    "\n",
    "    ts_wcov.fit(\n",
    "        x = X_train_wcov, y = Y_train,\n",
    "        validation_data = [X_val_wcov, Y_val],\n",
    "        batch_size = 32,\n",
    "        epochs = 1000,\n",
    "        verbose = True,\n",
    "        callbacks = callbacks,\n",
    "    )\n",
    "    ts_wcov.plot_training_history()\n",
    "    ts_wcov.save_weights('ts_wcov.h5')\n",
    "\n",
    "    yhat_nocov = ts_nocov.predict(X_val_nocov, n_repeats = 100, n_quantiles = 15, verbose = False)\n",
    "    yhat_wcov = ts_wcov.predict(X_val_wcov, n_repeats = 100, n_quantiles = 15, verbose = False)\n",
    "else:\n",
    "    yhat_nocov = np.load('/content/drive/MyDrive/Forecast-M5/yhat_nocov.npy')\n",
    "    yhat_wcov = np.load('/content/drive/MyDrive/Forecast-M5/yhat_wcov.npy')"
   ]
  },
  {
   "cell_type": "code",
   "execution_count": 63,
   "metadata": {},
   "outputs": [
    {
     "data": {
      "text/plain": [
       "smape         0.629153\n",
       "mape          2.180737\n",
       "mse      249746.194503\n",
       "rmse        256.869388\n",
       "mae         219.979002\n",
       "dtype: float64"
      ]
     },
     "execution_count": 63,
     "metadata": {},
     "output_type": "execute_result"
    }
   ],
   "source": [
    "evaluator_wcov = Evaluator(X_val, Y_val, yhat_wcov, ids_val)\n",
    "evaluator_wcov.evaluate_prediction(evaluators = [smape, mape, mse, rmse, mae], return_mean = True)"
   ]
  },
  {
   "cell_type": "code",
   "execution_count": 64,
   "metadata": {},
   "outputs": [
    {
     "data": {
      "text/plain": [
       "smape         0.771634\n",
       "mape          3.408208\n",
       "mse      274628.012346\n",
       "rmse        263.697013\n",
       "mae         222.152117\n",
       "dtype: float64"
      ]
     },
     "execution_count": 64,
     "metadata": {},
     "output_type": "execute_result"
    }
   ],
   "source": [
    "evaluator_nocov = Evaluator(X_val, Y_val, yhat_nocov, ids_val)\n",
    "evaluator_nocov.evaluate_prediction(evaluators = [smape, mape, mse, rmse, mae], return_mean = True)"
   ]
  },
  {
   "cell_type": "code",
   "execution_count": 68,
   "metadata": {},
   "outputs": [
    {
     "name": "stdout",
     "output_type": "stream",
     "text": [
      "T-Statistic: -1.4312017493579878\n",
      "P-Value: 0.15463312297177867\n"
     ]
    }
   ],
   "source": [
    "group_a = smape(Y_val, yhat_wcov.mean(axis=0))\n",
    "group_b = smape(Y_val, yhat_nocov.mean(axis=0))\n",
    "\n",
    "t_statistic, p_value = stats.ttest_ind(group_a, group_b)\n",
    "\n",
    "print(\"T-Statistic:\", t_statistic)\n",
    "print(\"P-Value:\", p_value)"
   ]
  },
  {
   "cell_type": "code",
   "execution_count": 69,
   "metadata": {},
   "outputs": [
    {
     "name": "stdout",
     "output_type": "stream",
     "text": [
      "T-Statistic: -1.1085152594998897\n",
      "P-Value: 0.2695675404501063\n"
     ]
    }
   ],
   "source": [
    "group_a = mape(Y_val, yhat_wcov.mean(axis=0))\n",
    "group_b = mape(Y_val, yhat_nocov.mean(axis=0))\n",
    "\n",
    "t_statistic, p_value = stats.ttest_ind(group_a, group_b)\n",
    "\n",
    "print(\"T-Statistic:\", t_statistic)\n",
    "print(\"P-Value:\", p_value)"
   ]
  },
  {
   "cell_type": "code",
   "execution_count": 70,
   "metadata": {},
   "outputs": [
    {
     "name": "stdout",
     "output_type": "stream",
     "text": [
      "T-Statistic: -0.18805217331727578\n",
      "P-Value: 0.8511119919611729\n"
     ]
    }
   ],
   "source": [
    "group_a = mse(Y_val, yhat_wcov.mean(axis=0))\n",
    "group_b = mse(Y_val, yhat_nocov.mean(axis=0))\n",
    "\n",
    "t_statistic, p_value = stats.ttest_ind(group_a, group_b)\n",
    "\n",
    "print(\"T-Statistic:\", t_statistic)\n",
    "print(\"P-Value:\", p_value)"
   ]
  },
  {
   "cell_type": "code",
   "execution_count": 71,
   "metadata": {},
   "outputs": [
    {
     "name": "stdout",
     "output_type": "stream",
     "text": [
      "T-Statistic: -0.09094937647855104\n",
      "P-Value: 0.9276646971579723\n"
     ]
    }
   ],
   "source": [
    "group_a = rmse(Y_val, yhat_wcov.mean(axis=0))\n",
    "group_b = rmse(Y_val, yhat_nocov.mean(axis=0))\n",
    "\n",
    "t_statistic, p_value = stats.ttest_ind(group_a, group_b)\n",
    "\n",
    "print(\"T-Statistic:\", t_statistic)\n",
    "print(\"P-Value:\", p_value)"
   ]
  },
  {
   "cell_type": "code",
   "execution_count": 72,
   "metadata": {},
   "outputs": [
    {
     "name": "stdout",
     "output_type": "stream",
     "text": [
      "T-Statistic: -0.03354332565755193\n",
      "P-Value: 0.9732897842251591\n"
     ]
    }
   ],
   "source": [
    "group_a = mae(Y_val, yhat_wcov.mean(axis=0))\n",
    "group_b = mae(Y_val, yhat_nocov.mean(axis=0))\n",
    "\n",
    "t_statistic, p_value = stats.ttest_ind(group_a, group_b)\n",
    "\n",
    "print(\"T-Statistic:\", t_statistic)\n",
    "print(\"P-Value:\", p_value)"
   ]
  }
 ],
 "metadata": {
  "kernelspec": {
   "display_name": "Python 3",
   "language": "python",
   "name": "python3"
  },
  "language_info": {
   "codemirror_mode": {
    "name": "ipython",
    "version": 3
   },
   "file_extension": ".py",
   "mimetype": "text/x-python",
   "name": "python",
   "nbconvert_exporter": "python",
   "pygments_lexer": "ipython3",
   "version": "3.10.11"
  },
  "orig_nbformat": 4
 },
 "nbformat": 4,
 "nbformat_minor": 2
}
