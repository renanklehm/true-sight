{
 "cells": [
  {
   "cell_type": "code",
   "execution_count": 1,
   "metadata": {},
   "outputs": [],
   "source": [
    "import pandas as pd\n",
    "from tqdm import tqdm\n",
    "from os import listdir\n",
    "from os.path import isfile, join"
   ]
  },
  {
   "cell_type": "code",
   "execution_count": 2,
   "metadata": {},
   "outputs": [],
   "source": [
    "mypath = 'datasets\\\\Stock Market\\\\csv'\n",
    "onlyfiles = [f for f in listdir(mypath) if isfile(join(mypath, f))]"
   ]
  },
  {
   "cell_type": "code",
   "execution_count": 4,
   "metadata": {},
   "outputs": [
    {
     "name": "stderr",
     "output_type": "stream",
     "text": [
      " 55%|█████▍    | 1896/3457 [00:36<00:30, 50.37it/s]"
     ]
    },
    {
     "name": "stdout",
     "output_type": "stream",
     "text": [
      "Error: LRCX.csv\n"
     ]
    },
    {
     "name": "stderr",
     "output_type": "stream",
     "text": [
      "100%|██████████| 3457/3457 [01:23<00:00, 41.32it/s]\n"
     ]
    }
   ],
   "source": [
    "df = []\n",
    "for file in tqdm(onlyfiles):\n",
    "    try:\n",
    "        temp = pd.read_csv(f'datasets\\\\Stock Market\\\\csv\\\\{file}')\n",
    "        temp['Date'] = pd.to_datetime(temp['Date'], dayfirst=True)\n",
    "        temp.rename(columns = {'Date': 'ds', 'Adjusted Close': 'y'}, inplace = True)\n",
    "        temp['unique_id'] = file.removesuffix('.csv')\n",
    "        df.append(temp)\n",
    "    except:\n",
    "        print(f'Error: {file}')\n",
    "        pass\n",
    "df = pd.concat(df)"
   ]
  },
  {
   "cell_type": "code",
   "execution_count": 5,
   "metadata": {},
   "outputs": [],
   "source": [
    "df = df[['unique_id', 'ds', 'y']]"
   ]
  },
  {
   "cell_type": "code",
   "execution_count": 7,
   "metadata": {},
   "outputs": [],
   "source": [
    "df.to_csv('datasets\\\\Stock Market\\\\stock_market.csv', index=False)\n",
    "df.to_pickle('datasets\\\\Stock Market\\\\stock_market.pkl')"
   ]
  }
 ],
 "metadata": {
  "kernelspec": {
   "display_name": "Python 3",
   "language": "python",
   "name": "python3"
  },
  "language_info": {
   "codemirror_mode": {
    "name": "ipython",
    "version": 3
   },
   "file_extension": ".py",
   "mimetype": "text/x-python",
   "name": "python",
   "nbconvert_exporter": "python",
   "pygments_lexer": "ipython3",
   "version": "3.10.11"
  },
  "orig_nbformat": 4
 },
 "nbformat": 4,
 "nbformat_minor": 2
}
