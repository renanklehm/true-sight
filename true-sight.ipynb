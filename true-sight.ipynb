{
 "cells": [
  {
   "cell_type": "code",
   "execution_count": 1,
   "metadata": {},
   "outputs": [],
   "source": [
    "import tensorflow as tf\n",
    "from truesight.preprocessing import Preprocessor\n",
    "from truesight.core import TrueSight\n",
    "from truesight.metrics import Evaluator, mse, rmse, mae\n",
    "from truesight.utils import get_input_shapes, generate_syntetic_data"
   ]
  },
  {
   "attachments": {},
   "cell_type": "markdown",
   "metadata": {},
   "source": [
    "Generate syntetica data for training and testing the model"
   ]
  },
  {
   "cell_type": "code",
   "execution_count": 28,
   "metadata": {},
   "outputs": [],
   "source": [
    "num_time_steps = 100\n",
    "seasonal_lenght = 12\n",
    "forecast_horizon = 12\n",
    "df = generate_syntetic_data(num_time_steps, seasonal_lenght, num_series=100)"
   ]
  },
  {
   "attachments": {},
   "cell_type": "markdown",
   "metadata": {},
   "source": [
    "The preprocessor class takes a dataframe with the columns the following columns:\n",
    "\n",
    " - unique_id: A string that uniquely identifies each time series in the dataframe\n",
    " - ds: A datetime column with the date of each time step. The dates must be in the correct frequency for the date_freq parameter\n",
    " - y: The values of the time series\n",
    "\n",
    "You can include as many statistical models as needed in the model's parameter as long as it follows the statsforecast syntax. However, more models would result in a longer processing time. It is essential to set a fallback_model in case any of the informed models fail to fit."
   ]
  },
  {
   "cell_type": "code",
   "execution_count": null,
   "metadata": {},
   "outputs": [],
   "source": [
    "from statsforecast.models import SeasonalNaive, AutoETS\n",
    "from truesight.models import AdditiveDecomposition\n",
    "\n",
    "preprocessor = Preprocessor(df)\n",
    "X_train, Y_train, ids_train, X_val, Y_val, ids_val, models = preprocessor.make_dataset(\n",
    "    forecast_horizon = 12, \n",
    "    season_length = 12,\n",
    "    date_freq = \"MS\", \n",
    "    models = [AdditiveDecomposition, AutoETS, SeasonalNaive], \n",
    "    fallback_model = SeasonalNaive,\n",
    "    verbose = True\n",
    "    )"
   ]
  },
  {
   "attachments": {},
   "cell_type": "markdown",
   "metadata": {},
   "source": [
    "Create the model"
   ]
  },
  {
   "cell_type": "code",
   "execution_count": 30,
   "metadata": {},
   "outputs": [],
   "source": [
    "input_shapes = get_input_shapes(X_train)\n",
    "truesight = TrueSight(models, input_shapes, forecast_horizon = forecast_horizon)"
   ]
  },
  {
   "attachments": {},
   "cell_type": "markdown",
   "metadata": {},
   "source": [
    "Use the `auto_tune` to automatically define the hyperparameters"
   ]
  },
  {
   "cell_type": "code",
   "execution_count": 31,
   "metadata": {},
   "outputs": [],
   "source": [
    "truesight.auto_tune(X_train, Y_train, X_val, Y_val, n_trials = 10, batch_size = 512, epochs = 5)"
   ]
  },
  {
   "attachments": {},
   "cell_type": "markdown",
   "metadata": {},
   "source": [
    "Or set then manually"
   ]
  },
  {
   "cell_type": "code",
   "execution_count": null,
   "metadata": {},
   "outputs": [],
   "source": [
    "truesight.set_hparams(lstm_units=256, hidden_size=1024, num_heads=8, dropout_rate=0.1)"
   ]
  },
  {
   "attachments": {},
   "cell_type": "markdown",
   "metadata": {},
   "source": [
    "Train the model"
   ]
  },
  {
   "cell_type": "code",
   "execution_count": null,
   "metadata": {},
   "outputs": [],
   "source": [
    "callbacks = [\n",
    "    tf.keras.callbacks.EarlyStopping(patience = 100, restore_best_weights = True, monitor = \"val_loss\"),\n",
    "    tf.keras.callbacks.ReduceLROnPlateau(monitor = \"val_loss\", factor = 0.5, patience = 25, verbose = False),\n",
    "]\n",
    "truesight.fit(X_train, Y_train, X_val, Y_val, batch_size = 128, epochs = 1000, verbose = False, callbacks = callbacks)\n",
    "truesight.plot_history()"
   ]
  },
  {
   "attachments": {},
   "cell_type": "markdown",
   "metadata": {},
   "source": [
    "Evaluate the results"
   ]
  },
  {
   "cell_type": "code",
   "execution_count": null,
   "metadata": {},
   "outputs": [],
   "source": [
    "Y_hat = truesight.predict(X_val, batch_size = 500, n_repeats = 100, n_quantiles = 15, return_quantiles = True, verbose = False)\n",
    "evaluator = Evaluator(X_val, Y_val, Y_hat, ids_val)\n",
    "print(evaluator.evaluate_prediction([mse, rmse, mae], return_mean=False).to_markdown())"
   ]
  },
  {
   "attachments": {},
   "cell_type": "markdown",
   "metadata": {},
   "source": [
    "Visualize individual inputs"
   ]
  },
  {
   "cell_type": "code",
   "execution_count": null,
   "metadata": {},
   "outputs": [],
   "source": [
    "evaluator.plot_exemple()"
   ]
  }
 ],
 "metadata": {
  "kernelspec": {
   "display_name": "Python 3",
   "language": "python",
   "name": "python3"
  },
  "language_info": {
   "codemirror_mode": {
    "name": "ipython",
    "version": 3
   },
   "file_extension": ".py",
   "mimetype": "text/x-python",
   "name": "python",
   "nbconvert_exporter": "python",
   "pygments_lexer": "ipython3",
   "version": "3.10.9"
  },
  "orig_nbformat": 4
 },
 "nbformat": 4,
 "nbformat_minor": 2
}
