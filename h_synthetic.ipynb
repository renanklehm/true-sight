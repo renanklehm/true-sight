{
 "cells": [
  {
   "cell_type": "code",
   "execution_count": 1,
   "metadata": {},
   "outputs": [],
   "source": [
    "import random\n",
    "import pandas as pd\n",
    "import numpy as np\n",
    "import tensorflow as tf\n",
    "from scipy import stats\n",
    "from truesight.preprocessing import Preprocessor\n",
    "from truesight.core import TrueSight\n",
    "from truesight.metrics import Evaluator, smape, mape, mse, rmse, mae\n",
    "from sklearn.metrics import r2_score\n",
    "from truesight.utils import generate_syntetic_data\n",
    "\n",
    "seed = 42\n",
    "random.seed(seed)\n",
    "np.random.seed(seed)\n",
    "tf.random.set_seed(seed)"
   ]
  },
  {
   "cell_type": "code",
   "execution_count": 2,
   "metadata": {},
   "outputs": [],
   "source": [
    "num_time_steps = 60\n",
    "season_length = 12\n",
    "forecast_horizon = 12\n",
    "df = generate_syntetic_data(num_time_steps, season_length, 500)"
   ]
  },
  {
   "cell_type": "code",
   "execution_count": 3,
   "metadata": {},
   "outputs": [
    {
     "name": "stderr",
     "output_type": "stream",
     "text": [
      "100%|██████████| 400/400 [05:07<00:00,  1.30it/s]\n",
      "100%|██████████| 100/100 [01:07<00:00,  1.48it/s]\n"
     ]
    }
   ],
   "source": [
    "from statsforecast.models import SeasonalNaive, AutoETS, AutoARIMA\n",
    "from sklearn.linear_model import LinearRegression\n",
    "from truesight.utils import ModelWrapper\n",
    "\n",
    "models = [\n",
    "    ModelWrapper(LinearRegression, horizon=forecast_horizon, season_length=season_length, alias=\"LinearRegression\"),\n",
    "    ModelWrapper(AutoETS, horizon=forecast_horizon, season_length=season_length),\n",
    "    ModelWrapper(AutoARIMA, horizon=forecast_horizon, season_length=season_length),\n",
    "]\n",
    "\n",
    "preprocessor = Preprocessor(df)\n",
    "X_train, Y_train, ids_train, X_val, Y_val, ids_val, models = preprocessor.make_dataset(\n",
    "    forecast_horizon = forecast_horizon, \n",
    "    season_length = season_length,\n",
    "    date_freq = \"MS\", \n",
    "    models = models, \n",
    "    fallback_model = ModelWrapper(SeasonalNaive, horizon=forecast_horizon, season_length=season_length),\n",
    "    verbose = True\n",
    "    )"
   ]
  },
  {
   "cell_type": "code",
   "execution_count": 4,
   "metadata": {},
   "outputs": [],
   "source": [
    "callbacks = [\n",
    "    tf.keras.callbacks.EarlyStopping(patience = 20, restore_best_weights = True, monitor = \"val_loss\"),\n",
    "    tf.keras.callbacks.ReduceLROnPlateau(monitor = \"val_loss\", factor = 0.5, patience = 10, verbose = False),\n",
    "]"
   ]
  },
  {
   "cell_type": "code",
   "execution_count": 5,
   "metadata": {},
   "outputs": [
    {
     "name": "stdout",
     "output_type": "stream",
     "text": [
      "Epoch 1/1000\n",
      "13/13 [==============================] - 9s 324ms/step - loss: 47282.5039 - val_loss: 47862.5156 - lr: 1.0000e-04\n",
      "Epoch 2/1000\n",
      "13/13 [==============================] - 4s 285ms/step - loss: 39450.4180 - val_loss: 35741.3750 - lr: 1.0000e-04\n",
      "Epoch 3/1000\n",
      "13/13 [==============================] - 4s 284ms/step - loss: 25660.7520 - val_loss: 23454.0078 - lr: 1.0000e-04\n",
      "Epoch 4/1000\n",
      "13/13 [==============================] - 4s 284ms/step - loss: 15909.8691 - val_loss: 15364.7363 - lr: 1.0000e-04\n",
      "Epoch 5/1000\n",
      "13/13 [==============================] - 4s 286ms/step - loss: 10861.8721 - val_loss: 9289.7090 - lr: 1.0000e-04\n",
      "Epoch 6/1000\n",
      "13/13 [==============================] - 4s 283ms/step - loss: 6253.9058 - val_loss: 5311.5737 - lr: 1.0000e-04\n",
      "Epoch 7/1000\n",
      "13/13 [==============================] - 4s 284ms/step - loss: 3921.3826 - val_loss: 3297.3752 - lr: 1.0000e-04\n",
      "Epoch 8/1000\n",
      "13/13 [==============================] - 4s 288ms/step - loss: 2853.8730 - val_loss: 3089.7290 - lr: 1.0000e-04\n",
      "Epoch 9/1000\n",
      "13/13 [==============================] - 4s 288ms/step - loss: 2643.2087 - val_loss: 2540.0913 - lr: 1.0000e-04\n",
      "Epoch 10/1000\n",
      "13/13 [==============================] - 4s 286ms/step - loss: 2287.5684 - val_loss: 2225.8647 - lr: 1.0000e-04\n",
      "Epoch 11/1000\n",
      "13/13 [==============================] - 4s 290ms/step - loss: 2118.6252 - val_loss: 1758.6031 - lr: 1.0000e-04\n",
      "Epoch 12/1000\n",
      "13/13 [==============================] - 4s 286ms/step - loss: 1925.8293 - val_loss: 1612.4106 - lr: 1.0000e-04\n",
      "Epoch 13/1000\n",
      "13/13 [==============================] - 4s 288ms/step - loss: 1745.7494 - val_loss: 1520.0853 - lr: 1.0000e-04\n",
      "Epoch 14/1000\n",
      "13/13 [==============================] - 4s 286ms/step - loss: 1697.3817 - val_loss: 1428.2834 - lr: 1.0000e-04\n",
      "Epoch 15/1000\n",
      "13/13 [==============================] - 4s 285ms/step - loss: 1684.6173 - val_loss: 1413.9425 - lr: 1.0000e-04\n",
      "Epoch 16/1000\n",
      "13/13 [==============================] - 4s 298ms/step - loss: 1647.1714 - val_loss: 1345.1603 - lr: 1.0000e-04\n",
      "Epoch 17/1000\n",
      "13/13 [==============================] - 4s 303ms/step - loss: 1593.2271 - val_loss: 1430.1086 - lr: 1.0000e-04\n",
      "Epoch 18/1000\n",
      "13/13 [==============================] - 4s 294ms/step - loss: 1531.1083 - val_loss: 1368.7372 - lr: 1.0000e-04\n",
      "Epoch 19/1000\n",
      "13/13 [==============================] - 4s 294ms/step - loss: 1557.4348 - val_loss: 1360.3927 - lr: 1.0000e-04\n",
      "Epoch 20/1000\n",
      "13/13 [==============================] - 4s 301ms/step - loss: 1523.3254 - val_loss: 1371.4470 - lr: 1.0000e-04\n",
      "Epoch 21/1000\n",
      "13/13 [==============================] - 4s 289ms/step - loss: 1524.2517 - val_loss: 1457.3104 - lr: 1.0000e-04\n",
      "Epoch 22/1000\n",
      "13/13 [==============================] - 4s 293ms/step - loss: 1531.4602 - val_loss: 1275.4504 - lr: 1.0000e-04\n",
      "Epoch 23/1000\n",
      "13/13 [==============================] - 4s 301ms/step - loss: 1465.8660 - val_loss: 1274.6858 - lr: 1.0000e-04\n",
      "Epoch 24/1000\n",
      "13/13 [==============================] - 4s 299ms/step - loss: 1440.7004 - val_loss: 1317.5649 - lr: 1.0000e-04\n",
      "Epoch 25/1000\n",
      "13/13 [==============================] - 4s 288ms/step - loss: 1500.9509 - val_loss: 1332.7473 - lr: 1.0000e-04\n",
      "Epoch 26/1000\n",
      "13/13 [==============================] - 4s 288ms/step - loss: 1412.9918 - val_loss: 1198.5637 - lr: 1.0000e-04\n",
      "Epoch 27/1000\n",
      "13/13 [==============================] - 4s 288ms/step - loss: 1421.8579 - val_loss: 1225.6227 - lr: 1.0000e-04\n",
      "Epoch 28/1000\n",
      "13/13 [==============================] - 4s 294ms/step - loss: 1380.7885 - val_loss: 1296.6550 - lr: 1.0000e-04\n",
      "Epoch 29/1000\n",
      "13/13 [==============================] - 4s 286ms/step - loss: 1401.2303 - val_loss: 1236.2117 - lr: 1.0000e-04\n",
      "Epoch 30/1000\n",
      "13/13 [==============================] - 4s 286ms/step - loss: 1343.6447 - val_loss: 1203.3218 - lr: 1.0000e-04\n",
      "Epoch 31/1000\n",
      "13/13 [==============================] - 4s 284ms/step - loss: 1372.5525 - val_loss: 1336.4282 - lr: 1.0000e-04\n",
      "Epoch 32/1000\n",
      "13/13 [==============================] - 4s 287ms/step - loss: 1485.2438 - val_loss: 1259.6146 - lr: 1.0000e-04\n",
      "Epoch 33/1000\n",
      "13/13 [==============================] - 4s 293ms/step - loss: 1388.6703 - val_loss: 1222.9836 - lr: 1.0000e-04\n",
      "Epoch 34/1000\n",
      "13/13 [==============================] - 4s 286ms/step - loss: 1341.5007 - val_loss: 1128.9194 - lr: 1.0000e-04\n",
      "Epoch 35/1000\n",
      "13/13 [==============================] - 4s 288ms/step - loss: 1329.8204 - val_loss: 1302.3849 - lr: 1.0000e-04\n",
      "Epoch 36/1000\n",
      "13/13 [==============================] - 4s 288ms/step - loss: 1352.0288 - val_loss: 1258.9155 - lr: 1.0000e-04\n",
      "Epoch 37/1000\n",
      "13/13 [==============================] - 4s 285ms/step - loss: 1313.8383 - val_loss: 1268.7399 - lr: 1.0000e-04\n",
      "Epoch 38/1000\n",
      "13/13 [==============================] - 4s 286ms/step - loss: 1336.1648 - val_loss: 1209.0531 - lr: 1.0000e-04\n",
      "Epoch 39/1000\n",
      "13/13 [==============================] - 4s 286ms/step - loss: 1321.0238 - val_loss: 1177.6978 - lr: 1.0000e-04\n",
      "Epoch 40/1000\n",
      "13/13 [==============================] - 4s 293ms/step - loss: 1294.1589 - val_loss: 1180.7574 - lr: 1.0000e-04\n",
      "Epoch 41/1000\n",
      "13/13 [==============================] - 4s 290ms/step - loss: 1332.7059 - val_loss: 1310.0255 - lr: 1.0000e-04\n",
      "Epoch 42/1000\n",
      "13/13 [==============================] - 4s 299ms/step - loss: 1361.7321 - val_loss: 1252.0806 - lr: 1.0000e-04\n",
      "Epoch 43/1000\n",
      "13/13 [==============================] - 4s 288ms/step - loss: 1385.3733 - val_loss: 1225.8174 - lr: 1.0000e-04\n",
      "Epoch 44/1000\n",
      "13/13 [==============================] - 4s 275ms/step - loss: 1401.2456 - val_loss: 1274.0248 - lr: 1.0000e-04\n",
      "Epoch 45/1000\n",
      "13/13 [==============================] - 3s 263ms/step - loss: 1335.7990 - val_loss: 1206.3311 - lr: 5.0000e-05\n",
      "Epoch 46/1000\n",
      "13/13 [==============================] - 3s 262ms/step - loss: 1295.8660 - val_loss: 1182.0406 - lr: 5.0000e-05\n",
      "Epoch 47/1000\n",
      "13/13 [==============================] - 3s 263ms/step - loss: 1308.9867 - val_loss: 1263.8408 - lr: 5.0000e-05\n",
      "Epoch 48/1000\n",
      "13/13 [==============================] - 4s 274ms/step - loss: 1285.3254 - val_loss: 1211.5327 - lr: 5.0000e-05\n",
      "Epoch 49/1000\n",
      "13/13 [==============================] - 4s 291ms/step - loss: 1266.7286 - val_loss: 1137.4192 - lr: 5.0000e-05\n",
      "Epoch 50/1000\n",
      "13/13 [==============================] - 3s 266ms/step - loss: 1278.1958 - val_loss: 1187.5010 - lr: 5.0000e-05\n",
      "Epoch 51/1000\n",
      "13/13 [==============================] - 3s 270ms/step - loss: 1282.2821 - val_loss: 1203.6893 - lr: 5.0000e-05\n",
      "Epoch 52/1000\n",
      "13/13 [==============================] - 4s 277ms/step - loss: 1276.3884 - val_loss: 1225.4034 - lr: 5.0000e-05\n",
      "Epoch 53/1000\n",
      "13/13 [==============================] - 3s 268ms/step - loss: 1292.1127 - val_loss: 1161.1428 - lr: 5.0000e-05\n",
      "Epoch 54/1000\n",
      "13/13 [==============================] - 3s 266ms/step - loss: 1291.1117 - val_loss: 1229.9357 - lr: 5.0000e-05\n"
     ]
    },
    {
     "data": {
      "image/png": "[encoded data removed]",
      "text/plain": [
       "<Figure size 640x480 with 1 Axes>"
      ]
     },
     "metadata": {},
     "output_type": "display_data"
    }
   ],
   "source": [
    "models_nocov = models[-1:]\n",
    "X_train_nocov = X_train[-1:]\n",
    "X_val_nocov = X_val[-1:]\n",
    "\n",
    "optimizer = tf.keras.optimizers.Adam(learning_rate=0.0001)\n",
    "ts_nocov = TrueSight(models_nocov, forecast_horizon, filter_size = 64, context_size = 256, hidden_size = 1024, dropout_rate = 0.1)\n",
    "ts_nocov.compile(optimizer=optimizer, loss='mse')\n",
    "\n",
    "ts_nocov.fit(\n",
    "    x = X_train_nocov, y = Y_train,\n",
    "    validation_data = [X_val_nocov, Y_val],\n",
    "    batch_size = 32,\n",
    "    epochs = 1000,\n",
    "    verbose = True,\n",
    "    callbacks = callbacks,\n",
    ")\n",
    "ts_nocov.plot_training_history()\n",
    "ts_nocov.save_weights('nocov.h5')"
   ]
  },
  {
   "cell_type": "code",
   "execution_count": 6,
   "metadata": {},
   "outputs": [
    {
     "name": "stdout",
     "output_type": "stream",
     "text": [
      "Epoch 1/1000\n",
      "13/13 [==============================] - 8s 308ms/step - loss: 47434.8008 - val_loss: 48397.4609 - lr: 1.0000e-04\n",
      "Epoch 2/1000\n",
      "13/13 [==============================] - 4s 271ms/step - loss: 40240.0195 - val_loss: 36761.2109 - lr: 1.0000e-04\n",
      "Epoch 3/1000\n",
      "13/13 [==============================] - 3s 272ms/step - loss: 27202.1445 - val_loss: 26147.4121 - lr: 1.0000e-04\n",
      "Epoch 4/1000\n",
      "13/13 [==============================] - 3s 270ms/step - loss: 19649.6113 - val_loss: 19474.2305 - lr: 1.0000e-04\n",
      "Epoch 5/1000\n",
      "13/13 [==============================] - 4s 273ms/step - loss: 16207.9238 - val_loss: 16033.3672 - lr: 1.0000e-04\n",
      "Epoch 6/1000\n",
      "13/13 [==============================] - 4s 276ms/step - loss: 11867.8311 - val_loss: 8624.4170 - lr: 1.0000e-04\n",
      "Epoch 7/1000\n",
      "13/13 [==============================] - 4s 282ms/step - loss: 5911.8579 - val_loss: 4308.9546 - lr: 1.0000e-04\n",
      "Epoch 8/1000\n",
      "13/13 [==============================] - 4s 279ms/step - loss: 3401.2324 - val_loss: 2935.0166 - lr: 1.0000e-04\n",
      "Epoch 9/1000\n",
      "13/13 [==============================] - 3s 266ms/step - loss: 2565.7646 - val_loss: 2328.6565 - lr: 1.0000e-04\n",
      "Epoch 10/1000\n",
      "13/13 [==============================] - 4s 276ms/step - loss: 2173.9143 - val_loss: 1916.7979 - lr: 1.0000e-04\n",
      "Epoch 11/1000\n",
      "13/13 [==============================] - 4s 283ms/step - loss: 2003.4788 - val_loss: 1817.3695 - lr: 1.0000e-04\n",
      "Epoch 12/1000\n",
      "13/13 [==============================] - 4s 291ms/step - loss: 1915.5596 - val_loss: 1908.9626 - lr: 1.0000e-04\n",
      "Epoch 13/1000\n",
      "13/13 [==============================] - 4s 290ms/step - loss: 1842.7831 - val_loss: 1546.7990 - lr: 1.0000e-04\n",
      "Epoch 14/1000\n",
      "13/13 [==============================] - 4s 278ms/step - loss: 1824.1648 - val_loss: 2050.0505 - lr: 1.0000e-04\n",
      "Epoch 15/1000\n",
      "13/13 [==============================] - 4s 284ms/step - loss: 1791.5078 - val_loss: 1601.7456 - lr: 1.0000e-04\n",
      "Epoch 16/1000\n",
      "13/13 [==============================] - 4s 280ms/step - loss: 1752.0396 - val_loss: 1394.8689 - lr: 1.0000e-04\n",
      "Epoch 17/1000\n",
      "13/13 [==============================] - 4s 279ms/step - loss: 1668.7753 - val_loss: 1310.5526 - lr: 1.0000e-04\n",
      "Epoch 18/1000\n",
      "13/13 [==============================] - 4s 279ms/step - loss: 1613.0333 - val_loss: 1381.5333 - lr: 1.0000e-04\n",
      "Epoch 19/1000\n",
      "13/13 [==============================] - 4s 283ms/step - loss: 1685.7113 - val_loss: 1364.6508 - lr: 1.0000e-04\n",
      "Epoch 20/1000\n",
      "13/13 [==============================] - 4s 284ms/step - loss: 1799.3774 - val_loss: 1770.5944 - lr: 1.0000e-04\n",
      "Epoch 21/1000\n",
      "13/13 [==============================] - 4s 281ms/step - loss: 1586.8960 - val_loss: 1290.7725 - lr: 1.0000e-04\n",
      "Epoch 22/1000\n",
      "13/13 [==============================] - 4s 280ms/step - loss: 1624.3729 - val_loss: 1275.4984 - lr: 1.0000e-04\n",
      "Epoch 23/1000\n",
      "13/13 [==============================] - 4s 280ms/step - loss: 1595.8882 - val_loss: 1291.9343 - lr: 1.0000e-04\n",
      "Epoch 24/1000\n",
      "13/13 [==============================] - 4s 280ms/step - loss: 1518.9795 - val_loss: 1249.3264 - lr: 1.0000e-04\n",
      "Epoch 25/1000\n",
      "13/13 [==============================] - 4s 280ms/step - loss: 1498.5107 - val_loss: 1163.3018 - lr: 1.0000e-04\n",
      "Epoch 26/1000\n",
      "13/13 [==============================] - 4s 280ms/step - loss: 1441.6400 - val_loss: 1260.4469 - lr: 1.0000e-04\n",
      "Epoch 27/1000\n",
      "13/13 [==============================] - 4s 281ms/step - loss: 1438.7683 - val_loss: 1275.0803 - lr: 1.0000e-04\n",
      "Epoch 28/1000\n",
      "13/13 [==============================] - 4s 279ms/step - loss: 1443.9515 - val_loss: 1248.7914 - lr: 1.0000e-04\n",
      "Epoch 29/1000\n",
      "13/13 [==============================] - 4s 283ms/step - loss: 1426.8755 - val_loss: 1220.2249 - lr: 1.0000e-04\n",
      "Epoch 30/1000\n",
      "13/13 [==============================] - 4s 281ms/step - loss: 1560.2311 - val_loss: 1888.2842 - lr: 1.0000e-04\n",
      "Epoch 31/1000\n",
      "13/13 [==============================] - 4s 277ms/step - loss: 1519.8081 - val_loss: 1239.8649 - lr: 1.0000e-04\n",
      "Epoch 32/1000\n",
      "13/13 [==============================] - 4s 280ms/step - loss: 1468.4314 - val_loss: 1245.3298 - lr: 1.0000e-04\n",
      "Epoch 33/1000\n",
      "13/13 [==============================] - 4s 282ms/step - loss: 1433.5803 - val_loss: 1188.0585 - lr: 1.0000e-04\n",
      "Epoch 34/1000\n",
      "13/13 [==============================] - 4s 281ms/step - loss: 1443.0029 - val_loss: 1191.6598 - lr: 1.0000e-04\n",
      "Epoch 35/1000\n",
      "13/13 [==============================] - 4s 279ms/step - loss: 1477.3588 - val_loss: 1185.1195 - lr: 1.0000e-04\n",
      "Epoch 36/1000\n",
      "13/13 [==============================] - 4s 279ms/step - loss: 1386.9697 - val_loss: 1224.4117 - lr: 5.0000e-05\n",
      "Epoch 37/1000\n",
      "13/13 [==============================] - 4s 282ms/step - loss: 1407.1698 - val_loss: 1251.1294 - lr: 5.0000e-05\n",
      "Epoch 38/1000\n",
      "13/13 [==============================] - 4s 281ms/step - loss: 1409.8499 - val_loss: 1139.3622 - lr: 5.0000e-05\n",
      "Epoch 39/1000\n",
      "13/13 [==============================] - 4s 282ms/step - loss: 1336.0575 - val_loss: 1139.1503 - lr: 5.0000e-05\n",
      "Epoch 40/1000\n",
      "13/13 [==============================] - 4s 280ms/step - loss: 1357.6522 - val_loss: 1314.6522 - lr: 5.0000e-05\n",
      "Epoch 41/1000\n",
      "13/13 [==============================] - 4s 282ms/step - loss: 1394.2394 - val_loss: 1203.4191 - lr: 5.0000e-05\n",
      "Epoch 42/1000\n",
      "13/13 [==============================] - 4s 282ms/step - loss: 1360.2388 - val_loss: 1160.0369 - lr: 5.0000e-05\n",
      "Epoch 43/1000\n",
      "13/13 [==============================] - 4s 283ms/step - loss: 1348.8884 - val_loss: 1104.4515 - lr: 5.0000e-05\n",
      "Epoch 44/1000\n",
      "13/13 [==============================] - 4s 282ms/step - loss: 1337.9487 - val_loss: 1333.3940 - lr: 5.0000e-05\n",
      "Epoch 45/1000\n",
      "13/13 [==============================] - 4s 284ms/step - loss: 1342.9064 - val_loss: 1197.1108 - lr: 5.0000e-05\n",
      "Epoch 46/1000\n",
      "13/13 [==============================] - 4s 282ms/step - loss: 1374.2524 - val_loss: 1187.4315 - lr: 5.0000e-05\n",
      "Epoch 47/1000\n",
      "13/13 [==============================] - 4s 285ms/step - loss: 1317.9319 - val_loss: 1240.4803 - lr: 5.0000e-05\n",
      "Epoch 48/1000\n",
      "13/13 [==============================] - 4s 281ms/step - loss: 1347.5529 - val_loss: 1216.7678 - lr: 5.0000e-05\n",
      "Epoch 49/1000\n",
      "13/13 [==============================] - 4s 281ms/step - loss: 1365.8640 - val_loss: 1209.5229 - lr: 5.0000e-05\n",
      "Epoch 50/1000\n",
      "13/13 [==============================] - 4s 287ms/step - loss: 1335.8333 - val_loss: 1187.2404 - lr: 5.0000e-05\n",
      "Epoch 51/1000\n",
      "13/13 [==============================] - 4s 284ms/step - loss: 1333.9120 - val_loss: 1197.4257 - lr: 5.0000e-05\n",
      "Epoch 52/1000\n",
      "13/13 [==============================] - 4s 279ms/step - loss: 1327.6952 - val_loss: 1125.8398 - lr: 5.0000e-05\n",
      "Epoch 53/1000\n",
      "13/13 [==============================] - 4s 281ms/step - loss: 1320.8246 - val_loss: 1263.1481 - lr: 5.0000e-05\n",
      "Epoch 54/1000\n",
      "13/13 [==============================] - 4s 282ms/step - loss: 1311.8761 - val_loss: 1113.1904 - lr: 2.5000e-05\n",
      "Epoch 55/1000\n",
      "13/13 [==============================] - 4s 279ms/step - loss: 1300.7981 - val_loss: 1172.1918 - lr: 2.5000e-05\n",
      "Epoch 56/1000\n",
      "13/13 [==============================] - 4s 282ms/step - loss: 1301.0914 - val_loss: 1148.7883 - lr: 2.5000e-05\n",
      "Epoch 57/1000\n",
      "13/13 [==============================] - 4s 280ms/step - loss: 1295.8914 - val_loss: 1117.4778 - lr: 2.5000e-05\n",
      "Epoch 58/1000\n",
      "13/13 [==============================] - 4s 282ms/step - loss: 1320.8605 - val_loss: 1112.4794 - lr: 2.5000e-05\n",
      "Epoch 59/1000\n",
      "13/13 [==============================] - 4s 279ms/step - loss: 1320.0702 - val_loss: 1196.7456 - lr: 2.5000e-05\n",
      "Epoch 60/1000\n",
      "13/13 [==============================] - 4s 279ms/step - loss: 1322.5093 - val_loss: 1167.8525 - lr: 2.5000e-05\n",
      "Epoch 61/1000\n",
      "13/13 [==============================] - 4s 288ms/step - loss: 1288.8774 - val_loss: 1111.7009 - lr: 2.5000e-05\n",
      "Epoch 62/1000\n",
      "13/13 [==============================] - 4s 279ms/step - loss: 1298.5673 - val_loss: 1160.9977 - lr: 2.5000e-05\n",
      "Epoch 63/1000\n",
      "13/13 [==============================] - 4s 285ms/step - loss: 1290.5828 - val_loss: 1098.5853 - lr: 2.5000e-05\n",
      "Epoch 64/1000\n",
      "13/13 [==============================] - 4s 281ms/step - loss: 1308.5984 - val_loss: 1108.0005 - lr: 2.5000e-05\n",
      "Epoch 65/1000\n",
      "13/13 [==============================] - 4s 281ms/step - loss: 1304.9941 - val_loss: 1232.7914 - lr: 2.5000e-05\n",
      "Epoch 66/1000\n",
      "13/13 [==============================] - 4s 280ms/step - loss: 1300.0148 - val_loss: 1132.2876 - lr: 2.5000e-05\n",
      "Epoch 67/1000\n",
      "13/13 [==============================] - 4s 279ms/step - loss: 1312.6399 - val_loss: 1159.2836 - lr: 2.5000e-05\n",
      "Epoch 68/1000\n",
      "13/13 [==============================] - 4s 281ms/step - loss: 1278.5031 - val_loss: 1121.3829 - lr: 2.5000e-05\n",
      "Epoch 69/1000\n",
      "13/13 [==============================] - 4s 279ms/step - loss: 1305.8734 - val_loss: 1163.6232 - lr: 2.5000e-05\n",
      "Epoch 70/1000\n",
      "13/13 [==============================] - 4s 279ms/step - loss: 1289.8387 - val_loss: 1114.3146 - lr: 2.5000e-05\n",
      "Epoch 71/1000\n",
      "13/13 [==============================] - 4s 281ms/step - loss: 1285.9318 - val_loss: 1150.6588 - lr: 2.5000e-05\n",
      "Epoch 72/1000\n",
      "13/13 [==============================] - 4s 281ms/step - loss: 1277.1249 - val_loss: 1121.5405 - lr: 2.5000e-05\n",
      "Epoch 73/1000\n",
      "13/13 [==============================] - 4s 279ms/step - loss: 1277.6879 - val_loss: 1157.7489 - lr: 2.5000e-05\n",
      "Epoch 74/1000\n",
      "13/13 [==============================] - 4s 282ms/step - loss: 1283.1561 - val_loss: 1182.5256 - lr: 1.2500e-05\n",
      "Epoch 75/1000\n",
      "13/13 [==============================] - 4s 281ms/step - loss: 1263.4138 - val_loss: 1112.5470 - lr: 1.2500e-05\n",
      "Epoch 76/1000\n",
      "13/13 [==============================] - 4s 279ms/step - loss: 1273.1101 - val_loss: 1123.5398 - lr: 1.2500e-05\n",
      "Epoch 77/1000\n",
      "13/13 [==============================] - 4s 286ms/step - loss: 1305.7506 - val_loss: 1233.4271 - lr: 1.2500e-05\n",
      "Epoch 78/1000\n",
      "13/13 [==============================] - 4s 285ms/step - loss: 1302.8647 - val_loss: 1141.8260 - lr: 1.2500e-05\n",
      "Epoch 79/1000\n",
      "13/13 [==============================] - 4s 283ms/step - loss: 1276.6134 - val_loss: 1145.1620 - lr: 1.2500e-05\n",
      "Epoch 80/1000\n",
      "13/13 [==============================] - 4s 286ms/step - loss: 1302.8367 - val_loss: 1318.5757 - lr: 1.2500e-05\n",
      "Epoch 81/1000\n",
      "13/13 [==============================] - 4s 281ms/step - loss: 1310.7247 - val_loss: 1118.2388 - lr: 1.2500e-05\n",
      "Epoch 82/1000\n",
      "13/13 [==============================] - 4s 279ms/step - loss: 1279.1948 - val_loss: 1176.8074 - lr: 1.2500e-05\n",
      "Epoch 83/1000\n",
      "13/13 [==============================] - 4s 286ms/step - loss: 1302.3419 - val_loss: 1084.7242 - lr: 1.2500e-05\n",
      "Epoch 84/1000\n",
      "13/13 [==============================] - 4s 280ms/step - loss: 1280.6469 - val_loss: 1164.0507 - lr: 1.2500e-05\n",
      "Epoch 85/1000\n",
      "13/13 [==============================] - 4s 284ms/step - loss: 1299.8954 - val_loss: 1139.7197 - lr: 1.2500e-05\n",
      "Epoch 86/1000\n",
      "13/13 [==============================] - 4s 287ms/step - loss: 1283.5194 - val_loss: 1082.5981 - lr: 1.2500e-05\n",
      "Epoch 87/1000\n",
      "13/13 [==============================] - 4s 287ms/step - loss: 1283.0126 - val_loss: 1128.2079 - lr: 1.2500e-05\n",
      "Epoch 88/1000\n",
      "13/13 [==============================] - 4s 287ms/step - loss: 1276.7942 - val_loss: 1162.7440 - lr: 1.2500e-05\n",
      "Epoch 89/1000\n",
      "13/13 [==============================] - 4s 284ms/step - loss: 1305.6364 - val_loss: 1163.4343 - lr: 1.2500e-05\n",
      "Epoch 90/1000\n",
      "13/13 [==============================] - 4s 279ms/step - loss: 1265.2871 - val_loss: 1114.4595 - lr: 1.2500e-05\n",
      "Epoch 91/1000\n",
      "13/13 [==============================] - 4s 279ms/step - loss: 1275.1406 - val_loss: 1127.3441 - lr: 1.2500e-05\n",
      "Epoch 92/1000\n",
      "13/13 [==============================] - 4s 281ms/step - loss: 1274.7450 - val_loss: 1149.2770 - lr: 1.2500e-05\n",
      "Epoch 93/1000\n",
      "13/13 [==============================] - 4s 282ms/step - loss: 1275.5314 - val_loss: 1063.1201 - lr: 1.2500e-05\n",
      "Epoch 94/1000\n",
      "13/13 [==============================] - 4s 282ms/step - loss: 1273.8237 - val_loss: 1127.5466 - lr: 1.2500e-05\n",
      "Epoch 95/1000\n",
      "13/13 [==============================] - 4s 280ms/step - loss: 1310.0696 - val_loss: 1147.3007 - lr: 1.2500e-05\n",
      "Epoch 96/1000\n",
      "13/13 [==============================] - 4s 281ms/step - loss: 1282.4812 - val_loss: 1171.1283 - lr: 1.2500e-05\n",
      "Epoch 97/1000\n",
      "13/13 [==============================] - 4s 288ms/step - loss: 1264.2280 - val_loss: 1127.8757 - lr: 1.2500e-05\n",
      "Epoch 98/1000\n",
      "13/13 [==============================] - 4s 285ms/step - loss: 1273.0828 - val_loss: 1119.7499 - lr: 1.2500e-05\n",
      "Epoch 99/1000\n",
      "13/13 [==============================] - 4s 284ms/step - loss: 1260.7998 - val_loss: 1132.2853 - lr: 1.2500e-05\n",
      "Epoch 100/1000\n",
      "13/13 [==============================] - 4s 283ms/step - loss: 1265.8461 - val_loss: 1182.7610 - lr: 1.2500e-05\n",
      "Epoch 101/1000\n",
      "13/13 [==============================] - 4s 289ms/step - loss: 1252.9036 - val_loss: 1124.0574 - lr: 1.2500e-05\n",
      "Epoch 102/1000\n",
      "13/13 [==============================] - 4s 283ms/step - loss: 1273.9564 - val_loss: 1149.7802 - lr: 1.2500e-05\n",
      "Epoch 103/1000\n",
      "13/13 [==============================] - 4s 281ms/step - loss: 1250.6902 - val_loss: 1085.7247 - lr: 1.2500e-05\n",
      "Epoch 104/1000\n",
      "13/13 [==============================] - 4s 285ms/step - loss: 1271.4304 - val_loss: 1109.4951 - lr: 6.2500e-06\n",
      "Epoch 105/1000\n",
      "13/13 [==============================] - 4s 282ms/step - loss: 1254.8584 - val_loss: 1199.6283 - lr: 6.2500e-06\n",
      "Epoch 106/1000\n",
      "13/13 [==============================] - 4s 279ms/step - loss: 1271.9087 - val_loss: 1124.5557 - lr: 6.2500e-06\n",
      "Epoch 107/1000\n",
      "13/13 [==============================] - 4s 285ms/step - loss: 1284.8153 - val_loss: 1117.2223 - lr: 6.2500e-06\n",
      "Epoch 108/1000\n",
      "13/13 [==============================] - 4s 279ms/step - loss: 1254.5627 - val_loss: 1139.5071 - lr: 6.2500e-06\n",
      "Epoch 109/1000\n",
      "13/13 [==============================] - 4s 281ms/step - loss: 1251.1625 - val_loss: 1112.4667 - lr: 6.2500e-06\n",
      "Epoch 110/1000\n",
      "13/13 [==============================] - 4s 282ms/step - loss: 1265.0474 - val_loss: 1103.7217 - lr: 6.2500e-06\n",
      "Epoch 111/1000\n",
      "13/13 [==============================] - 4s 281ms/step - loss: 1272.4375 - val_loss: 1129.2150 - lr: 6.2500e-06\n",
      "Epoch 112/1000\n",
      "13/13 [==============================] - 4s 283ms/step - loss: 1272.5806 - val_loss: 1135.6832 - lr: 6.2500e-06\n",
      "Epoch 113/1000\n",
      "13/13 [==============================] - 4s 281ms/step - loss: 1270.6228 - val_loss: 1105.2347 - lr: 6.2500e-06\n"
     ]
    },
    {
     "data": {
      "image/png": "[encoded data removed]",
      "text/plain": [
       "<Figure size 640x480 with 1 Axes>"
      ]
     },
     "metadata": {},
     "output_type": "display_data"
    }
   ],
   "source": [
    "models_wcov = models.copy()\n",
    "X_train_wcov = X_train.copy()\n",
    "X_val_wcov = X_val.copy()\n",
    "\n",
    "optimizer = tf.keras.optimizers.Adam(learning_rate=0.0001)\n",
    "ts_wcov= TrueSight(models_wcov, forecast_horizon, filter_size = 64, context_size = 256, hidden_size = 1024, dropout_rate = 0.1)\n",
    "ts_wcov.compile(optimizer=optimizer, loss='mse')\n",
    "\n",
    "ts_wcov.fit(\n",
    "    x = X_train_wcov, y = Y_train,\n",
    "    validation_data = [X_val_wcov, Y_val],\n",
    "    batch_size = 32,\n",
    "    epochs = 1000,\n",
    "    verbose = True,\n",
    "    callbacks = callbacks,\n",
    ")\n",
    "ts_wcov.plot_training_history()\n",
    "ts_wcov.save_weights('ts_wcov.h5')"
   ]
  },
  {
   "cell_type": "code",
   "execution_count": 7,
   "metadata": {},
   "outputs": [],
   "source": [
    "yhat_nocov = ts_nocov.predict(X_val_nocov, n_repeats = 100, n_quantiles = 15, verbose = False)\n",
    "yhat_wcov = ts_wcov.predict(X_val_wcov, n_repeats = 100, n_quantiles = 15, verbose = False)"
   ]
  },
  {
   "cell_type": "code",
   "execution_count": 8,
   "metadata": {},
   "outputs": [
    {
     "data": {
      "text/plain": [
       "smape       0.549451\n",
       "mape        0.414327\n",
       "mse      1080.414435\n",
       "rmse       21.672101\n",
       "mae        17.436016\n",
       "dtype: float64"
      ]
     },
     "execution_count": 8,
     "metadata": {},
     "output_type": "execute_result"
    }
   ],
   "source": [
    "evaluator_wcov = Evaluator(X_val, Y_val, yhat_wcov, ids_val)\n",
    "evaluator_wcov.evaluate_prediction(evaluators = [smape, mape, mse, rmse, mae], return_mean = True)"
   ]
  },
  {
   "cell_type": "code",
   "execution_count": 9,
   "metadata": {},
   "outputs": [
    {
     "data": {
      "text/plain": [
       "smape       0.807919\n",
       "mape        0.584127\n",
       "mse      1158.042616\n",
       "rmse       22.478076\n",
       "mae        18.436885\n",
       "dtype: float64"
      ]
     },
     "execution_count": 9,
     "metadata": {},
     "output_type": "execute_result"
    }
   ],
   "source": [
    "evaluator_nocov = Evaluator(X_val, Y_val, yhat_nocov, ids_val)\n",
    "evaluator_nocov.evaluate_prediction(evaluators = [smape, mape, mse, rmse, mae], return_mean = True)"
   ]
  },
  {
   "cell_type": "code",
   "execution_count": 10,
   "metadata": {},
   "outputs": [
    {
     "name": "stdout",
     "output_type": "stream",
     "text": [
      "T-Statistic: -5.2818451529915516\n",
      "P-Value: 7.599578958485774e-07\n"
     ]
    }
   ],
   "source": [
    "group_a = smape(Y_val, yhat_wcov.mean(axis=0))\n",
    "group_b = smape(Y_val, yhat_nocov.mean(axis=0))\n",
    "\n",
    "t_statistic, p_value = stats.ttest_rel(group_a, group_b)\n",
    "\n",
    "print(\"T-Statistic:\", t_statistic)\n",
    "print(\"P-Value:\", p_value)"
   ]
  },
  {
   "cell_type": "code",
   "execution_count": 11,
   "metadata": {},
   "outputs": [
    {
     "name": "stdout",
     "output_type": "stream",
     "text": [
      "T-Statistic: -3.769617097239496\n",
      "P-Value: 0.000278131361370289\n"
     ]
    }
   ],
   "source": [
    "group_a = mape(Y_val, yhat_wcov.mean(axis=0))\n",
    "group_b = mape(Y_val, yhat_nocov.mean(axis=0))\n",
    "\n",
    "t_statistic, p_value = stats.ttest_rel(group_a, group_b)\n",
    "\n",
    "print(\"T-Statistic:\", t_statistic)\n",
    "print(\"P-Value:\", p_value)"
   ]
  },
  {
   "cell_type": "code",
   "execution_count": 12,
   "metadata": {},
   "outputs": [
    {
     "name": "stdout",
     "output_type": "stream",
     "text": [
      "T-Statistic: -1.3089329294732113\n",
      "P-Value: 0.19358726772670296\n"
     ]
    }
   ],
   "source": [
    "group_a = mse(Y_val, yhat_wcov.mean(axis=0))\n",
    "group_b = mse(Y_val, yhat_nocov.mean(axis=0))\n",
    "\n",
    "t_statistic, p_value = stats.ttest_rel(group_a, group_b)\n",
    "\n",
    "print(\"T-Statistic:\", t_statistic)\n",
    "print(\"P-Value:\", p_value)"
   ]
  },
  {
   "cell_type": "code",
   "execution_count": 13,
   "metadata": {},
   "outputs": [
    {
     "name": "stdout",
     "output_type": "stream",
     "text": [
      "T-Statistic: -1.531001334316184\n",
      "P-Value: 0.12895833328030845\n"
     ]
    }
   ],
   "source": [
    "group_a = rmse(Y_val, yhat_wcov.mean(axis=0))\n",
    "group_b = rmse(Y_val, yhat_nocov.mean(axis=0))\n",
    "\n",
    "t_statistic, p_value = stats.ttest_rel(group_a, group_b)\n",
    "\n",
    "print(\"T-Statistic:\", t_statistic)\n",
    "print(\"P-Value:\", p_value)"
   ]
  },
  {
   "cell_type": "code",
   "execution_count": 14,
   "metadata": {},
   "outputs": [
    {
     "name": "stdout",
     "output_type": "stream",
     "text": [
      "T-Statistic: -2.1633841262133267\n",
      "P-Value: 0.03291834217696799\n"
     ]
    }
   ],
   "source": [
    "group_a = mae(Y_val, yhat_wcov.mean(axis=0))\n",
    "group_b = mae(Y_val, yhat_nocov.mean(axis=0))\n",
    "\n",
    "t_statistic, p_value = stats.ttest_rel(group_a, group_b)\n",
    "\n",
    "print(\"T-Statistic:\", t_statistic)\n",
    "print(\"P-Value:\", p_value)"
   ]
  },
  {
   "cell_type": "code",
   "execution_count": null,
   "metadata": {},
   "outputs": [],
   "source": []
  },
  {
   "cell_type": "code",
   "execution_count": null,
   "metadata": {},
   "outputs": [],
   "source": []
  }
 ],
 "metadata": {
  "kernelspec": {
   "display_name": "Python 3",
   "language": "python",
   "name": "python3"
  },
  "language_info": {
   "codemirror_mode": {
    "name": "ipython",
    "version": 3
   },
   "file_extension": ".py",
   "mimetype": "text/x-python",
   "name": "python",
   "nbconvert_exporter": "python",
   "pygments_lexer": "ipython3",
   "version": "3.10.11"
  },
  "orig_nbformat": 4
 },
 "nbformat": 4,
 "nbformat_minor": 2
}
