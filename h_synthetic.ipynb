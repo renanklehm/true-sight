{
 "cells": [
  {
   "cell_type": "code",
   "execution_count": 1,
   "metadata": {},
   "outputs": [],
   "source": [
    "import random\n",
    "import pandas as pd\n",
    "import numpy as np\n",
    "import tensorflow as tf\n",
    "from scipy import stats\n",
    "from truesight.preprocessing import Preprocessor\n",
    "from truesight.core import TrueSight\n",
    "from truesight.metrics import Evaluator, smape, mape, mse, rmse, mae\n",
    "from sklearn.metrics import r2_score\n",
    "from truesight.utils import generate_syntetic_data\n",
    "\n",
    "seed = 42\n",
    "random.seed(seed)\n",
    "np.random.seed(seed)\n",
    "tf.random.set_seed(seed)"
   ]
  },
  {
   "cell_type": "code",
   "execution_count": 2,
   "metadata": {},
   "outputs": [],
   "source": [
    "num_time_steps = 60\n",
    "season_length = 12\n",
    "forecast_horizon = 12\n",
    "df = generate_syntetic_data(num_time_steps, season_length, 500)"
   ]
  },
  {
   "cell_type": "code",
   "execution_count": 3,
   "metadata": {},
   "outputs": [
    {
     "name": "stderr",
     "output_type": "stream",
     "text": [
      "100%|██████████| 400/400 [05:07<00:00,  1.30it/s]\n",
      "100%|██████████| 100/100 [01:07<00:00,  1.48it/s]\n"
     ]
    }
   ],
   "source": [
    "from statsforecast.models import SeasonalNaive, AutoETS, AutoARIMA\n",
    "from sklearn.linear_model import LinearRegression\n",
    "from truesight.utils import ModelWrapper\n",
    "\n",
    "models = [\n",
    "    ModelWrapper(LinearRegression, horizon=forecast_horizon, season_length=season_length, alias=\"LinearRegression\"),\n",
    "    ModelWrapper(AutoETS, horizon=forecast_horizon, season_length=season_length),\n",
    "    ModelWrapper(AutoARIMA, horizon=forecast_horizon, season_length=season_length),\n",
    "]\n",
    "\n",
    "preprocessor = Preprocessor(df)\n",
    "X_train, Y_train, ids_train, X_val, Y_val, ids_val, models = preprocessor.make_dataset(\n",
    "    forecast_horizon = forecast_horizon, \n",
    "    season_length = season_length,\n",
    "    date_freq = \"MS\", \n",
    "    models = models, \n",
    "    fallback_model = ModelWrapper(SeasonalNaive, horizon=forecast_horizon, season_length=season_length),\n",
    "    verbose = True\n",
    "    )"
   ]
  },
  {
   "cell_type": "code",
   "execution_count": 4,
   "metadata": {},
   "outputs": [],
   "source": [
    "callbacks = [\n",
    "    tf.keras.callbacks.EarlyStopping(patience = 20, restore_best_weights = True, monitor = \"val_loss\"),\n",
    "    tf.keras.callbacks.ReduceLROnPlateau(monitor = \"val_loss\", factor = 0.5, patience = 10, verbose = False),\n",
    "]"
   ]
  },
  {
   "cell_type": "code",
   "execution_count": null,
   "metadata": {},
   "outputs": [],
   "source": [
    "models_nocov = models[-1:]\n",
    "X_train_nocov = X_train[-1:]\n",
    "X_val_nocov = X_val[-1:]\n",
    "\n",
    "optimizer = tf.keras.optimizers.Adam(learning_rate=0.0001)\n",
    "ts_nocov = TrueSight(models_nocov, forecast_horizon, filter_size = 64, context_size = 256, hidden_size = 1024, dropout_rate = 0.1)\n",
    "ts_nocov.compile(optimizer=optimizer, loss='mse')\n",
    "\n",
    "ts_nocov.fit(\n",
    "    x = X_train_nocov, y = Y_train,\n",
    "    validation_data = [X_val_nocov, Y_val],\n",
    "    batch_size = 32,\n",
    "    epochs = 1000,\n",
    "    verbose = True,\n",
    "    callbacks = callbacks,\n",
    ")\n",
    "ts_nocov.plot_training_history()\n",
    "ts_nocov.save_weights('nocov.h5')"
   ]
  },
  {
   "cell_type": "code",
   "execution_count": null,
   "metadata": {},
   "outputs": [],
   "source": [
    "models_wcov = models.copy()\n",
    "X_train_wcov = X_train.copy()\n",
    "X_val_wcov = X_val.copy()\n",
    "\n",
    "optimizer = tf.keras.optimizers.Adam(learning_rate=0.0001)\n",
    "ts_wcov= TrueSight(models_wcov, forecast_horizon, filter_size = 64, context_size = 256, hidden_size = 1024, dropout_rate = 0.1)\n",
    "ts_wcov.compile(optimizer=optimizer, loss='mse')\n",
    "\n",
    "ts_wcov.fit(\n",
    "    x = X_train_wcov, y = Y_train,\n",
    "    validation_data = [X_val_wcov, Y_val],\n",
    "    batch_size = 32,\n",
    "    epochs = 1000,\n",
    "    verbose = True,\n",
    "    callbacks = callbacks,\n",
    ")\n",
    "ts_wcov.plot_training_history()\n",
    "ts_wcov.save_weights('ts_wcov.h5')"
   ]
  },
  {
   "cell_type": "code",
   "execution_count": 7,
   "metadata": {},
   "outputs": [],
   "source": [
    "yhat_nocov = ts_nocov.predict(X_val_nocov, n_repeats = 100, n_quantiles = 15, verbose = False)\n",
    "yhat_wcov = ts_wcov.predict(X_val_wcov, n_repeats = 100, n_quantiles = 15, verbose = False)"
   ]
  },
  {
   "cell_type": "code",
   "execution_count": 8,
   "metadata": {},
   "outputs": [
    {
     "data": {
      "text/plain": [
       "smape       0.549451\n",
       "mape        0.414327\n",
       "mse      1080.414435\n",
       "rmse       21.672101\n",
       "mae        17.436016\n",
       "dtype: float64"
      ]
     },
     "execution_count": 8,
     "metadata": {},
     "output_type": "execute_result"
    }
   ],
   "source": [
    "evaluator_wcov = Evaluator(X_val, Y_val, yhat_wcov, ids_val)\n",
    "evaluator_wcov.evaluate_prediction(evaluators = [smape, mape, mse, rmse, mae], return_mean = True)"
   ]
  },
  {
   "cell_type": "code",
   "execution_count": 9,
   "metadata": {},
   "outputs": [
    {
     "data": {
      "text/plain": [
       "smape       0.807919\n",
       "mape        0.584127\n",
       "mse      1158.042616\n",
       "rmse       22.478076\n",
       "mae        18.436885\n",
       "dtype: float64"
      ]
     },
     "execution_count": 9,
     "metadata": {},
     "output_type": "execute_result"
    }
   ],
   "source": [
    "evaluator_nocov = Evaluator(X_val, Y_val, yhat_nocov, ids_val)\n",
    "evaluator_nocov.evaluate_prediction(evaluators = [smape, mape, mse, rmse, mae], return_mean = True)"
   ]
  },
  {
   "cell_type": "code",
   "execution_count": 10,
   "metadata": {},
   "outputs": [
    {
     "name": "stdout",
     "output_type": "stream",
     "text": [
      "T-Statistic: -5.2818451529915516\n",
      "P-Value: 7.599578958485774e-07\n"
     ]
    }
   ],
   "source": [
    "group_a = smape(Y_val, yhat_wcov.mean(axis=0))\n",
    "group_b = smape(Y_val, yhat_nocov.mean(axis=0))\n",
    "\n",
    "t_statistic, p_value = stats.ttest_rel(group_a, group_b)\n",
    "\n",
    "print(\"T-Statistic:\", t_statistic)\n",
    "print(\"P-Value:\", p_value)"
   ]
  },
  {
   "cell_type": "code",
   "execution_count": 11,
   "metadata": {},
   "outputs": [
    {
     "name": "stdout",
     "output_type": "stream",
     "text": [
      "T-Statistic: -3.769617097239496\n",
      "P-Value: 0.000278131361370289\n"
     ]
    }
   ],
   "source": [
    "group_a = mape(Y_val, yhat_wcov.mean(axis=0))\n",
    "group_b = mape(Y_val, yhat_nocov.mean(axis=0))\n",
    "\n",
    "t_statistic, p_value = stats.ttest_rel(group_a, group_b)\n",
    "\n",
    "print(\"T-Statistic:\", t_statistic)\n",
    "print(\"P-Value:\", p_value)"
   ]
  },
  {
   "cell_type": "code",
   "execution_count": 12,
   "metadata": {},
   "outputs": [
    {
     "name": "stdout",
     "output_type": "stream",
     "text": [
      "T-Statistic: -1.3089329294732113\n",
      "P-Value: 0.19358726772670296\n"
     ]
    }
   ],
   "source": [
    "group_a = mse(Y_val, yhat_wcov.mean(axis=0))\n",
    "group_b = mse(Y_val, yhat_nocov.mean(axis=0))\n",
    "\n",
    "t_statistic, p_value = stats.ttest_rel(group_a, group_b)\n",
    "\n",
    "print(\"T-Statistic:\", t_statistic)\n",
    "print(\"P-Value:\", p_value)"
   ]
  },
  {
   "cell_type": "code",
   "execution_count": 13,
   "metadata": {},
   "outputs": [
    {
     "name": "stdout",
     "output_type": "stream",
     "text": [
      "T-Statistic: -1.531001334316184\n",
      "P-Value: 0.12895833328030845\n"
     ]
    }
   ],
   "source": [
    "group_a = rmse(Y_val, yhat_wcov.mean(axis=0))\n",
    "group_b = rmse(Y_val, yhat_nocov.mean(axis=0))\n",
    "\n",
    "t_statistic, p_value = stats.ttest_rel(group_a, group_b)\n",
    "\n",
    "print(\"T-Statistic:\", t_statistic)\n",
    "print(\"P-Value:\", p_value)"
   ]
  },
  {
   "cell_type": "code",
   "execution_count": 14,
   "metadata": {},
   "outputs": [
    {
     "name": "stdout",
     "output_type": "stream",
     "text": [
      "T-Statistic: -2.1633841262133267\n",
      "P-Value: 0.03291834217696799\n"
     ]
    }
   ],
   "source": [
    "group_a = mae(Y_val, yhat_wcov.mean(axis=0))\n",
    "group_b = mae(Y_val, yhat_nocov.mean(axis=0))\n",
    "\n",
    "t_statistic, p_value = stats.ttest_rel(group_a, group_b)\n",
    "\n",
    "print(\"T-Statistic:\", t_statistic)\n",
    "print(\"P-Value:\", p_value)"
   ]
  },
  {
   "cell_type": "code",
   "execution_count": null,
   "metadata": {},
   "outputs": [],
   "source": []
  },
  {
   "cell_type": "code",
   "execution_count": null,
   "metadata": {},
   "outputs": [],
   "source": []
  }
 ],
 "metadata": {
  "kernelspec": {
   "display_name": "Python 3",
   "language": "python",
   "name": "python3"
  },
  "language_info": {
   "codemirror_mode": {
    "name": "ipython",
    "version": 3
   },
   "file_extension": ".py",
   "mimetype": "text/x-python",
   "name": "python",
   "nbconvert_exporter": "python",
   "pygments_lexer": "ipython3",
   "version": "3.10.11"
  },
  "orig_nbformat": 4
 },
 "nbformat": 4,
 "nbformat_minor": 2
}
