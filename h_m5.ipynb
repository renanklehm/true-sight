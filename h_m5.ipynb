{
 "cells": [
  {
   "cell_type": "code",
   "execution_count": 1,
   "metadata": {},
   "outputs": [],
   "source": [
    "import random\n",
    "import pandas as pd\n",
    "import numpy as np\n",
    "import tensorflow as tf\n",
    "from tqdm import tqdm\n",
    "from scipy import stats\n",
    "from truesight.preprocessing import Preprocessor\n",
    "from truesight.core import TrueSight\n",
    "from truesight.metrics import Evaluator, smape, mape, mse, rmse, mae\n",
    "from sklearn.metrics import r2_score\n",
    "from truesight.utils import generate_syntetic_data\n",
    "\n",
    "seed = 42\n",
    "random.seed(seed)\n",
    "np.random.seed(seed)\n",
    "tf.random.set_seed(seed)"
   ]
  },
  {
   "cell_type": "code",
   "execution_count": 2,
   "metadata": {},
   "outputs": [],
   "source": [
    "df = pd.read_csv(f\"datasets\\M5\\sales_train_evaluation.csv\")\n",
    "df.drop([\"item_id\", \"dept_id\", \"cat_id\", \"store_id\", \"state_id\"], axis = 1, inplace = True)\n",
    "df = df.melt(id_vars = \"id\", var_name = \"d\", value_name = \"y\")\n",
    "df = pd.merge(df, pd.read_csv(f\"datasets\\M5\\calendar.csv\")[[\"date\", \"d\"]], on = \"d\", how = \"left\")\n",
    "df.drop([\"d\"], axis = 1, inplace = True)\n",
    "df.rename({\"date\": \"ds\", \"id\": \"unique_id\"}, axis = 1, inplace = True)\n",
    "df[\"ds\"] = pd.to_datetime(df[\"ds\"])\n",
    "df = df.groupby([\"unique_id\", pd.Grouper(key = \"ds\", freq = \"MS\")]).sum().reset_index()\n",
    "df = df[df['unique_id'].isin(np.random.choice(df['unique_id'].unique(), 2000, replace = False))]"
   ]
  },
  {
   "cell_type": "code",
   "execution_count": 3,
   "metadata": {},
   "outputs": [],
   "source": [
    "season_length = 12\n",
    "forecast_horizon = 12"
   ]
  },
  {
   "cell_type": "code",
   "execution_count": 4,
   "metadata": {},
   "outputs": [
    {
     "name": "stderr",
     "output_type": "stream",
     "text": [
      "100%|██████████| 1600/1600 [17:53<00:00,  1.49it/s]\n",
      "100%|██████████| 400/400 [04:02<00:00,  1.65it/s]\n"
     ]
    }
   ],
   "source": [
    "from statsforecast.models import SeasonalNaive, AutoETS, AutoARIMA\n",
    "from sklearn.linear_model import LinearRegression\n",
    "from truesight.utils import ModelWrapper\n",
    "\n",
    "models = [\n",
    "    ModelWrapper(LinearRegression, horizon=forecast_horizon, season_length=season_length, alias=\"LinearRegression\"),\n",
    "    ModelWrapper(AutoETS, horizon=forecast_horizon, season_length=season_length),\n",
    "    ModelWrapper(AutoARIMA, horizon=forecast_horizon, season_length=season_length),\n",
    "]\n",
    "\n",
    "preprocessor = Preprocessor(df)\n",
    "X_train, Y_train, ids_train, X_val, Y_val, ids_val, models = preprocessor.make_dataset(\n",
    "    forecast_horizon = forecast_horizon, \n",
    "    season_length = season_length,\n",
    "    date_freq = \"MS\", \n",
    "    models = models, \n",
    "    fallback_model = ModelWrapper(SeasonalNaive, horizon=forecast_horizon, season_length=season_length),\n",
    "    verbose = True\n",
    "    )"
   ]
  },
  {
   "cell_type": "code",
   "execution_count": 5,
   "metadata": {},
   "outputs": [
    {
     "name": "stdout",
     "output_type": "stream",
     "text": [
      "Epoch 1/1000\n",
      "50/50 [==============================] - 17s 265ms/step - loss: 5816.8501 - val_loss: 11507.1250 - lr: 1.0000e-04\n",
      "Epoch 2/1000\n",
      "50/50 [==============================] - 13s 257ms/step - loss: 2871.9695 - val_loss: 9811.3984 - lr: 1.0000e-04\n",
      "Epoch 3/1000\n",
      "50/50 [==============================] - 13s 256ms/step - loss: 2445.3350 - val_loss: 9078.9697 - lr: 1.0000e-04\n",
      "Epoch 4/1000\n",
      "50/50 [==============================] - 13s 254ms/step - loss: 2133.3252 - val_loss: 8901.3428 - lr: 1.0000e-04\n",
      "Epoch 5/1000\n",
      "50/50 [==============================] - 13s 254ms/step - loss: 2043.8257 - val_loss: 8318.1670 - lr: 1.0000e-04\n",
      "Epoch 6/1000\n",
      "50/50 [==============================] - 13s 254ms/step - loss: 1942.8453 - val_loss: 8184.0386 - lr: 1.0000e-04\n",
      "Epoch 7/1000\n",
      "50/50 [==============================] - 13s 253ms/step - loss: 1912.6958 - val_loss: 7893.6968 - lr: 1.0000e-04\n",
      "Epoch 8/1000\n",
      "50/50 [==============================] - 13s 258ms/step - loss: 1760.0444 - val_loss: 7372.2939 - lr: 1.0000e-04\n",
      "Epoch 9/1000\n",
      "50/50 [==============================] - 13s 254ms/step - loss: 1772.5619 - val_loss: 7256.6079 - lr: 1.0000e-04\n",
      "Epoch 10/1000\n",
      "50/50 [==============================] - 13s 254ms/step - loss: 1668.1663 - val_loss: 7097.7090 - lr: 1.0000e-04\n",
      "Epoch 11/1000\n",
      "50/50 [==============================] - 13s 254ms/step - loss: 1598.6826 - val_loss: 6939.9795 - lr: 1.0000e-04\n",
      "Epoch 12/1000\n",
      "50/50 [==============================] - 13s 253ms/step - loss: 1562.2126 - val_loss: 6970.3965 - lr: 1.0000e-04\n",
      "Epoch 13/1000\n",
      "50/50 [==============================] - 13s 254ms/step - loss: 1526.2891 - val_loss: 6925.8188 - lr: 1.0000e-04\n",
      "Epoch 14/1000\n",
      "50/50 [==============================] - 13s 253ms/step - loss: 1479.3232 - val_loss: 6825.5557 - lr: 1.0000e-04\n",
      "Epoch 15/1000\n",
      "50/50 [==============================] - 13s 259ms/step - loss: 1394.3226 - val_loss: 7030.8643 - lr: 1.0000e-04\n",
      "Epoch 16/1000\n",
      "50/50 [==============================] - 13s 253ms/step - loss: 1409.3405 - val_loss: 7032.3936 - lr: 1.0000e-04\n",
      "Epoch 17/1000\n",
      "50/50 [==============================] - 13s 256ms/step - loss: 1486.0350 - val_loss: 6513.6582 - lr: 1.0000e-04\n",
      "Epoch 18/1000\n",
      "50/50 [==============================] - 13s 254ms/step - loss: 1348.1847 - val_loss: 6641.3198 - lr: 1.0000e-04\n",
      "Epoch 19/1000\n",
      "50/50 [==============================] - 13s 253ms/step - loss: 1293.3789 - val_loss: 6640.0967 - lr: 1.0000e-04\n",
      "Epoch 20/1000\n",
      "50/50 [==============================] - 13s 254ms/step - loss: 1284.5321 - val_loss: 6587.8691 - lr: 1.0000e-04\n",
      "Epoch 21/1000\n",
      "50/50 [==============================] - 13s 254ms/step - loss: 1243.6262 - val_loss: 6585.9692 - lr: 1.0000e-04\n",
      "Epoch 22/1000\n",
      "50/50 [==============================] - 13s 254ms/step - loss: 1221.1727 - val_loss: 6410.8062 - lr: 1.0000e-04\n",
      "Epoch 23/1000\n",
      "50/50 [==============================] - 13s 258ms/step - loss: 1208.3521 - val_loss: 6592.2939 - lr: 1.0000e-04\n",
      "Epoch 24/1000\n",
      "50/50 [==============================] - 13s 253ms/step - loss: 1162.7343 - val_loss: 6557.3462 - lr: 1.0000e-04\n",
      "Epoch 25/1000\n",
      "50/50 [==============================] - 13s 254ms/step - loss: 1173.2604 - val_loss: 6550.1465 - lr: 1.0000e-04\n",
      "Epoch 26/1000\n",
      "50/50 [==============================] - 13s 253ms/step - loss: 1156.4658 - val_loss: 6460.6182 - lr: 1.0000e-04\n",
      "Epoch 27/1000\n",
      "50/50 [==============================] - 13s 253ms/step - loss: 1218.2318 - val_loss: 6768.3838 - lr: 1.0000e-04\n",
      "Epoch 28/1000\n",
      "50/50 [==============================] - 13s 253ms/step - loss: 1165.1079 - val_loss: 6512.3867 - lr: 1.0000e-04\n",
      "Epoch 29/1000\n",
      "50/50 [==============================] - 13s 254ms/step - loss: 1134.4482 - val_loss: 6381.8213 - lr: 1.0000e-04\n",
      "Epoch 30/1000\n",
      "50/50 [==============================] - 13s 254ms/step - loss: 1090.6967 - val_loss: 6452.6899 - lr: 1.0000e-04\n",
      "Epoch 31/1000\n",
      "50/50 [==============================] - 13s 257ms/step - loss: 1145.5570 - val_loss: 6098.1099 - lr: 1.0000e-04\n",
      "Epoch 32/1000\n",
      "50/50 [==============================] - 13s 258ms/step - loss: 1092.4081 - val_loss: 6070.3833 - lr: 1.0000e-04\n",
      "Epoch 33/1000\n",
      "50/50 [==============================] - 13s 254ms/step - loss: 1056.0057 - val_loss: 6359.5645 - lr: 1.0000e-04\n",
      "Epoch 34/1000\n",
      "50/50 [==============================] - 13s 254ms/step - loss: 1080.9421 - val_loss: 6486.2861 - lr: 1.0000e-04\n",
      "Epoch 35/1000\n",
      "50/50 [==============================] - 13s 254ms/step - loss: 1046.5084 - val_loss: 5994.1367 - lr: 1.0000e-04\n",
      "Epoch 36/1000\n",
      "50/50 [==============================] - 13s 255ms/step - loss: 1018.6219 - val_loss: 6621.8657 - lr: 1.0000e-04\n",
      "Epoch 37/1000\n",
      "50/50 [==============================] - 13s 254ms/step - loss: 1009.0466 - val_loss: 6153.8662 - lr: 1.0000e-04\n",
      "Epoch 38/1000\n",
      "50/50 [==============================] - 13s 254ms/step - loss: 980.2880 - val_loss: 6374.9043 - lr: 1.0000e-04\n",
      "Epoch 39/1000\n",
      "50/50 [==============================] - 13s 255ms/step - loss: 980.1917 - val_loss: 6440.0723 - lr: 1.0000e-04\n",
      "Epoch 40/1000\n",
      "50/50 [==============================] - 13s 254ms/step - loss: 982.0673 - val_loss: 6101.0942 - lr: 1.0000e-04\n",
      "Epoch 41/1000\n",
      "50/50 [==============================] - 13s 258ms/step - loss: 978.7281 - val_loss: 6295.9692 - lr: 1.0000e-04\n",
      "Epoch 42/1000\n",
      "50/50 [==============================] - 13s 253ms/step - loss: 929.3924 - val_loss: 6142.1230 - lr: 1.0000e-04\n",
      "Epoch 43/1000\n",
      "50/50 [==============================] - 13s 254ms/step - loss: 948.4034 - val_loss: 6130.4639 - lr: 1.0000e-04\n",
      "Epoch 44/1000\n",
      "50/50 [==============================] - 13s 256ms/step - loss: 965.2369 - val_loss: 6142.6621 - lr: 1.0000e-04\n",
      "Epoch 45/1000\n",
      "50/50 [==============================] - 13s 257ms/step - loss: 928.4749 - val_loss: 5881.8711 - lr: 1.0000e-04\n",
      "Epoch 46/1000\n",
      "50/50 [==============================] - 13s 256ms/step - loss: 899.1884 - val_loss: 6099.5171 - lr: 1.0000e-04\n",
      "Epoch 47/1000\n",
      "50/50 [==============================] - 13s 254ms/step - loss: 848.7145 - val_loss: 5969.8525 - lr: 1.0000e-04\n",
      "Epoch 48/1000\n",
      "50/50 [==============================] - 13s 253ms/step - loss: 821.8844 - val_loss: 5850.8535 - lr: 1.0000e-04\n",
      "Epoch 49/1000\n",
      "50/50 [==============================] - 13s 255ms/step - loss: 853.0064 - val_loss: 5728.4346 - lr: 1.0000e-04\n",
      "Epoch 50/1000\n",
      "50/50 [==============================] - 13s 253ms/step - loss: 798.7572 - val_loss: 5893.5352 - lr: 1.0000e-04\n",
      "Epoch 51/1000\n",
      "50/50 [==============================] - 13s 259ms/step - loss: 820.8653 - val_loss: 6073.8506 - lr: 1.0000e-04\n",
      "Epoch 52/1000\n",
      "50/50 [==============================] - 13s 253ms/step - loss: 820.6841 - val_loss: 6098.9814 - lr: 1.0000e-04\n",
      "Epoch 53/1000\n",
      "50/50 [==============================] - 13s 254ms/step - loss: 763.8344 - val_loss: 5716.9775 - lr: 1.0000e-04\n",
      "Epoch 54/1000\n",
      "50/50 [==============================] - 13s 254ms/step - loss: 751.3384 - val_loss: 5685.4092 - lr: 1.0000e-04\n",
      "Epoch 55/1000\n",
      "50/50 [==============================] - 13s 253ms/step - loss: 744.0197 - val_loss: 5806.5244 - lr: 1.0000e-04\n",
      "Epoch 56/1000\n",
      "50/50 [==============================] - 13s 255ms/step - loss: 762.6442 - val_loss: 5827.2329 - lr: 1.0000e-04\n",
      "Epoch 57/1000\n",
      "50/50 [==============================] - 13s 254ms/step - loss: 705.7160 - val_loss: 5691.1431 - lr: 1.0000e-04\n",
      "Epoch 58/1000\n",
      "50/50 [==============================] - 13s 255ms/step - loss: 721.9254 - val_loss: 6079.5083 - lr: 1.0000e-04\n",
      "Epoch 59/1000\n",
      "50/50 [==============================] - 13s 255ms/step - loss: 678.0147 - val_loss: 5572.3682 - lr: 1.0000e-04\n",
      "Epoch 60/1000\n",
      "50/50 [==============================] - 13s 256ms/step - loss: 676.7167 - val_loss: 5720.6782 - lr: 1.0000e-04\n",
      "Epoch 61/1000\n",
      "50/50 [==============================] - 13s 254ms/step - loss: 645.8795 - val_loss: 5858.6235 - lr: 1.0000e-04\n",
      "Epoch 62/1000\n",
      "50/50 [==============================] - 13s 263ms/step - loss: 645.3405 - val_loss: 5849.1377 - lr: 1.0000e-04\n",
      "Epoch 63/1000\n",
      "50/50 [==============================] - 213s 4s/step - loss: 652.4064 - val_loss: 5770.5093 - lr: 1.0000e-04\n",
      "Epoch 64/1000\n",
      "50/50 [==============================] - 14s 278ms/step - loss: 613.5911 - val_loss: 5647.5049 - lr: 1.0000e-04\n",
      "Epoch 65/1000\n",
      "50/50 [==============================] - 14s 272ms/step - loss: 597.3791 - val_loss: 5634.5967 - lr: 1.0000e-04\n",
      "Epoch 66/1000\n",
      "50/50 [==============================] - 15s 295ms/step - loss: 598.7126 - val_loss: 5750.0542 - lr: 1.0000e-04\n",
      "Epoch 67/1000\n",
      "50/50 [==============================] - 15s 304ms/step - loss: 554.2966 - val_loss: 5609.5254 - lr: 1.0000e-04\n",
      "Epoch 68/1000\n",
      "50/50 [==============================] - 15s 298ms/step - loss: 553.4517 - val_loss: 5524.6621 - lr: 1.0000e-04\n",
      "Epoch 69/1000\n",
      "50/50 [==============================] - 14s 283ms/step - loss: 524.7026 - val_loss: 5537.6235 - lr: 1.0000e-04\n",
      "Epoch 70/1000\n",
      "50/50 [==============================] - 14s 274ms/step - loss: 561.9395 - val_loss: 5473.7856 - lr: 1.0000e-04\n",
      "Epoch 71/1000\n",
      "50/50 [==============================] - 13s 267ms/step - loss: 521.4402 - val_loss: 5402.4512 - lr: 1.0000e-04\n",
      "Epoch 72/1000\n",
      "50/50 [==============================] - 13s 270ms/step - loss: 517.8067 - val_loss: 5396.2002 - lr: 1.0000e-04\n",
      "Epoch 73/1000\n",
      "50/50 [==============================] - 13s 267ms/step - loss: 505.7663 - val_loss: 5683.6577 - lr: 1.0000e-04\n",
      "Epoch 74/1000\n",
      "50/50 [==============================] - 14s 278ms/step - loss: 519.7702 - val_loss: 5476.5942 - lr: 1.0000e-04\n",
      "Epoch 75/1000\n",
      "50/50 [==============================] - 14s 274ms/step - loss: 481.7830 - val_loss: 5370.0923 - lr: 1.0000e-04\n",
      "Epoch 76/1000\n",
      "50/50 [==============================] - 13s 268ms/step - loss: 479.8478 - val_loss: 5396.6919 - lr: 1.0000e-04\n",
      "Epoch 77/1000\n",
      "50/50 [==============================] - 13s 267ms/step - loss: 478.5925 - val_loss: 5675.9014 - lr: 1.0000e-04\n",
      "Epoch 78/1000\n",
      "50/50 [==============================] - 13s 269ms/step - loss: 479.3019 - val_loss: 6001.5264 - lr: 1.0000e-04\n",
      "Epoch 79/1000\n",
      "50/50 [==============================] - 13s 265ms/step - loss: 447.6036 - val_loss: 5479.0693 - lr: 1.0000e-04\n",
      "Epoch 80/1000\n",
      "50/50 [==============================] - 13s 267ms/step - loss: 421.4611 - val_loss: 5652.0386 - lr: 1.0000e-04\n",
      "Epoch 81/1000\n",
      "50/50 [==============================] - 13s 266ms/step - loss: 423.2998 - val_loss: 5658.1348 - lr: 1.0000e-04\n",
      "Epoch 82/1000\n",
      "50/50 [==============================] - 13s 267ms/step - loss: 406.8413 - val_loss: 5565.2993 - lr: 1.0000e-04\n",
      "Epoch 83/1000\n",
      "50/50 [==============================] - 13s 266ms/step - loss: 397.0636 - val_loss: 5608.4849 - lr: 1.0000e-04\n",
      "Epoch 84/1000\n",
      "50/50 [==============================] - 13s 266ms/step - loss: 395.5339 - val_loss: 5449.6421 - lr: 1.0000e-04\n",
      "Epoch 85/1000\n",
      "50/50 [==============================] - 14s 275ms/step - loss: 380.3559 - val_loss: 5591.0269 - lr: 1.0000e-04\n",
      "Epoch 86/1000\n",
      "50/50 [==============================] - 13s 270ms/step - loss: 356.0191 - val_loss: 5471.8042 - lr: 5.0000e-05\n",
      "Epoch 87/1000\n",
      "50/50 [==============================] - 13s 266ms/step - loss: 340.1534 - val_loss: 5733.7485 - lr: 5.0000e-05\n",
      "Epoch 88/1000\n",
      "50/50 [==============================] - 13s 268ms/step - loss: 342.7807 - val_loss: 5855.8086 - lr: 5.0000e-05\n",
      "Epoch 89/1000\n",
      "50/50 [==============================] - 13s 265ms/step - loss: 326.1804 - val_loss: 5611.8389 - lr: 5.0000e-05\n",
      "Epoch 90/1000\n",
      "50/50 [==============================] - 15s 293ms/step - loss: 336.4661 - val_loss: 5738.2461 - lr: 5.0000e-05\n",
      "Epoch 91/1000\n",
      "50/50 [==============================] - 14s 284ms/step - loss: 330.0207 - val_loss: 5594.7095 - lr: 5.0000e-05\n",
      "Epoch 92/1000\n",
      "50/50 [==============================] - 14s 282ms/step - loss: 329.7915 - val_loss: 5355.8794 - lr: 5.0000e-05\n",
      "Epoch 93/1000\n",
      "50/50 [==============================] - 14s 280ms/step - loss: 319.4297 - val_loss: 5683.0273 - lr: 5.0000e-05\n",
      "Epoch 94/1000\n",
      "50/50 [==============================] - 13s 268ms/step - loss: 321.4763 - val_loss: 5510.5620 - lr: 5.0000e-05\n",
      "Epoch 95/1000\n",
      "50/50 [==============================] - 13s 267ms/step - loss: 318.1136 - val_loss: 5892.0869 - lr: 5.0000e-05\n",
      "Epoch 96/1000\n",
      "50/50 [==============================] - 14s 271ms/step - loss: 304.8952 - val_loss: 5934.2725 - lr: 5.0000e-05\n",
      "Epoch 97/1000\n",
      "50/50 [==============================] - 14s 289ms/step - loss: 304.2336 - val_loss: 5605.3105 - lr: 5.0000e-05\n",
      "Epoch 98/1000\n",
      "50/50 [==============================] - 15s 299ms/step - loss: 311.8906 - val_loss: 5824.0029 - lr: 5.0000e-05\n",
      "Epoch 99/1000\n",
      "50/50 [==============================] - 14s 281ms/step - loss: 303.6430 - val_loss: 5666.3818 - lr: 5.0000e-05\n",
      "Epoch 100/1000\n",
      "50/50 [==============================] - 14s 277ms/step - loss: 297.0922 - val_loss: 5604.4995 - lr: 5.0000e-05\n",
      "Epoch 101/1000\n",
      "50/50 [==============================] - 14s 284ms/step - loss: 301.1876 - val_loss: 5861.4194 - lr: 5.0000e-05\n",
      "Epoch 102/1000\n",
      "50/50 [==============================] - 14s 276ms/step - loss: 289.5434 - val_loss: 5699.1733 - lr: 5.0000e-05\n",
      "Epoch 103/1000\n",
      "50/50 [==============================] - 14s 274ms/step - loss: 285.3794 - val_loss: 5697.0796 - lr: 2.5000e-05\n",
      "Epoch 104/1000\n",
      "50/50 [==============================] - 14s 276ms/step - loss: 276.8650 - val_loss: 5694.0376 - lr: 2.5000e-05\n",
      "Epoch 105/1000\n",
      "50/50 [==============================] - 14s 277ms/step - loss: 278.9773 - val_loss: 5475.0293 - lr: 2.5000e-05\n",
      "Epoch 106/1000\n",
      "50/50 [==============================] - 14s 283ms/step - loss: 275.1956 - val_loss: 5702.4077 - lr: 2.5000e-05\n",
      "Epoch 107/1000\n",
      "50/50 [==============================] - 14s 276ms/step - loss: 261.7112 - val_loss: 5516.9155 - lr: 2.5000e-05\n",
      "Epoch 108/1000\n",
      "50/50 [==============================] - 13s 264ms/step - loss: 272.2751 - val_loss: 5767.9214 - lr: 2.5000e-05\n",
      "Epoch 109/1000\n",
      "50/50 [==============================] - 14s 285ms/step - loss: 267.2506 - val_loss: 5583.8052 - lr: 2.5000e-05\n",
      "Epoch 110/1000\n",
      "50/50 [==============================] - 14s 276ms/step - loss: 260.6880 - val_loss: 5730.2988 - lr: 2.5000e-05\n",
      "Epoch 111/1000\n",
      "50/50 [==============================] - 14s 272ms/step - loss: 265.7257 - val_loss: 5510.5425 - lr: 2.5000e-05\n",
      "Epoch 112/1000\n",
      "50/50 [==============================] - 13s 266ms/step - loss: 263.8186 - val_loss: 5458.8066 - lr: 2.5000e-05\n"
     ]
    },
    {
     "data": {
      "image/png": "[encoded data removed]",
      "text/plain": [
       "<Figure size 640x480 with 1 Axes>"
      ]
     },
     "metadata": {},
     "output_type": "display_data"
    },
    {
     "name": "stdout",
     "output_type": "stream",
     "text": [
      "Epoch 1/1000\n",
      "50/50 [==============================] - 18s 280ms/step - loss: 6027.4458 - val_loss: 11958.5098 - lr: 1.0000e-04\n",
      "Epoch 2/1000\n",
      "50/50 [==============================] - 14s 279ms/step - loss: 3572.5503 - val_loss: 10501.6514 - lr: 1.0000e-04\n",
      "Epoch 3/1000\n",
      "50/50 [==============================] - 14s 274ms/step - loss: 3243.7676 - val_loss: 10234.3682 - lr: 1.0000e-04\n",
      "Epoch 4/1000\n",
      "50/50 [==============================] - 13s 269ms/step - loss: 3088.2905 - val_loss: 9781.9160 - lr: 1.0000e-04\n",
      "Epoch 5/1000\n",
      "50/50 [==============================] - 13s 268ms/step - loss: 3002.9333 - val_loss: 9467.5420 - lr: 1.0000e-04\n",
      "Epoch 6/1000\n",
      "50/50 [==============================] - 13s 266ms/step - loss: 2817.2788 - val_loss: 9034.7061 - lr: 1.0000e-04\n",
      "Epoch 7/1000\n",
      "50/50 [==============================] - 13s 268ms/step - loss: 2193.8823 - val_loss: 8062.6152 - lr: 1.0000e-04\n",
      "Epoch 8/1000\n",
      "50/50 [==============================] - 14s 282ms/step - loss: 1931.2622 - val_loss: 7699.9126 - lr: 1.0000e-04\n",
      "Epoch 9/1000\n",
      "50/50 [==============================] - 13s 269ms/step - loss: 1934.5984 - val_loss: 7571.5620 - lr: 1.0000e-04\n",
      "Epoch 10/1000\n",
      "50/50 [==============================] - 14s 273ms/step - loss: 1795.8324 - val_loss: 7494.5264 - lr: 1.0000e-04\n",
      "Epoch 11/1000\n",
      "50/50 [==============================] - 14s 286ms/step - loss: 1752.5813 - val_loss: 7292.9370 - lr: 1.0000e-04\n",
      "Epoch 12/1000\n",
      "50/50 [==============================] - 13s 270ms/step - loss: 1846.8967 - val_loss: 7654.2642 - lr: 1.0000e-04\n",
      "Epoch 13/1000\n",
      "50/50 [==============================] - 14s 273ms/step - loss: 1735.0402 - val_loss: 7117.3887 - lr: 1.0000e-04\n",
      "Epoch 14/1000\n",
      "50/50 [==============================] - 14s 277ms/step - loss: 1642.5923 - val_loss: 6949.5776 - lr: 1.0000e-04\n",
      "Epoch 15/1000\n",
      "50/50 [==============================] - 14s 275ms/step - loss: 1599.4731 - val_loss: 7166.3643 - lr: 1.0000e-04\n",
      "Epoch 16/1000\n",
      "50/50 [==============================] - 14s 279ms/step - loss: 1779.4548 - val_loss: 6880.7202 - lr: 1.0000e-04\n",
      "Epoch 17/1000\n",
      "50/50 [==============================] - 14s 274ms/step - loss: 1581.0663 - val_loss: 7220.9224 - lr: 1.0000e-04\n",
      "Epoch 18/1000\n",
      "50/50 [==============================] - 14s 275ms/step - loss: 1558.0236 - val_loss: 6792.0015 - lr: 1.0000e-04\n",
      "Epoch 19/1000\n",
      "50/50 [==============================] - 14s 278ms/step - loss: 1435.6028 - val_loss: 6898.2764 - lr: 1.0000e-04\n",
      "Epoch 20/1000\n",
      "50/50 [==============================] - 14s 275ms/step - loss: 1467.5121 - val_loss: 6669.9771 - lr: 1.0000e-04\n",
      "Epoch 21/1000\n",
      "50/50 [==============================] - 14s 278ms/step - loss: 1401.5057 - val_loss: 6656.8530 - lr: 1.0000e-04\n",
      "Epoch 22/1000\n",
      "50/50 [==============================] - 14s 275ms/step - loss: 1365.6921 - val_loss: 6625.7568 - lr: 1.0000e-04\n",
      "Epoch 23/1000\n",
      "50/50 [==============================] - 14s 276ms/step - loss: 1339.1803 - val_loss: 6488.3311 - lr: 1.0000e-04\n",
      "Epoch 24/1000\n",
      "50/50 [==============================] - 14s 274ms/step - loss: 1341.0358 - val_loss: 6978.6611 - lr: 1.0000e-04\n",
      "Epoch 25/1000\n",
      "50/50 [==============================] - 14s 274ms/step - loss: 1268.2639 - val_loss: 6688.5151 - lr: 1.0000e-04\n",
      "Epoch 26/1000\n",
      "50/50 [==============================] - 14s 274ms/step - loss: 1243.8278 - val_loss: 6878.1392 - lr: 1.0000e-04\n",
      "Epoch 27/1000\n",
      "50/50 [==============================] - 14s 275ms/step - loss: 1267.6489 - val_loss: 6419.1963 - lr: 1.0000e-04\n",
      "Epoch 28/1000\n",
      "50/50 [==============================] - 14s 276ms/step - loss: 1236.5176 - val_loss: 6538.1494 - lr: 1.0000e-04\n",
      "Epoch 29/1000\n",
      "50/50 [==============================] - 14s 275ms/step - loss: 1245.3461 - val_loss: 6338.7520 - lr: 1.0000e-04\n",
      "Epoch 30/1000\n",
      "50/50 [==============================] - 14s 275ms/step - loss: 1184.2863 - val_loss: 6622.1914 - lr: 1.0000e-04\n",
      "Epoch 31/1000\n",
      "50/50 [==============================] - 14s 275ms/step - loss: 1206.4760 - val_loss: 6401.0508 - lr: 1.0000e-04\n",
      "Epoch 32/1000\n",
      "50/50 [==============================] - 14s 278ms/step - loss: 1164.3243 - val_loss: 6218.3018 - lr: 1.0000e-04\n",
      "Epoch 33/1000\n",
      "50/50 [==============================] - 14s 284ms/step - loss: 1147.2025 - val_loss: 6420.9561 - lr: 1.0000e-04\n",
      "Epoch 34/1000\n",
      "50/50 [==============================] - 14s 277ms/step - loss: 1112.2780 - val_loss: 6173.4775 - lr: 1.0000e-04\n",
      "Epoch 35/1000\n",
      "50/50 [==============================] - 14s 284ms/step - loss: 1138.2382 - val_loss: 6373.3711 - lr: 1.0000e-04\n",
      "Epoch 36/1000\n",
      "50/50 [==============================] - 13s 268ms/step - loss: 1076.9038 - val_loss: 6749.1094 - lr: 1.0000e-04\n",
      "Epoch 37/1000\n",
      "50/50 [==============================] - 13s 267ms/step - loss: 1096.7094 - val_loss: 6635.8887 - lr: 1.0000e-04\n",
      "Epoch 38/1000\n",
      "50/50 [==============================] - 14s 272ms/step - loss: 1043.7242 - val_loss: 6300.2588 - lr: 1.0000e-04\n",
      "Epoch 39/1000\n",
      "50/50 [==============================] - 13s 269ms/step - loss: 1078.1863 - val_loss: 6342.9404 - lr: 1.0000e-04\n",
      "Epoch 40/1000\n",
      "50/50 [==============================] - 13s 270ms/step - loss: 1026.5322 - val_loss: 6586.6987 - lr: 1.0000e-04\n",
      "Epoch 41/1000\n",
      "50/50 [==============================] - 14s 273ms/step - loss: 1079.4972 - val_loss: 6307.8237 - lr: 1.0000e-04\n",
      "Epoch 42/1000\n",
      "50/50 [==============================] - 13s 262ms/step - loss: 1015.2732 - val_loss: 6622.8223 - lr: 1.0000e-04\n",
      "Epoch 43/1000\n",
      "50/50 [==============================] - 13s 258ms/step - loss: 1023.6998 - val_loss: 5874.3618 - lr: 1.0000e-04\n",
      "Epoch 44/1000\n",
      "50/50 [==============================] - 13s 258ms/step - loss: 1000.1429 - val_loss: 6438.1992 - lr: 1.0000e-04\n",
      "Epoch 45/1000\n",
      "50/50 [==============================] - 13s 259ms/step - loss: 987.4490 - val_loss: 6752.3145 - lr: 1.0000e-04\n",
      "Epoch 46/1000\n",
      "50/50 [==============================] - 13s 262ms/step - loss: 948.6314 - val_loss: 5963.4390 - lr: 1.0000e-04\n",
      "Epoch 47/1000\n",
      "50/50 [==============================] - 13s 258ms/step - loss: 943.1067 - val_loss: 6195.7407 - lr: 1.0000e-04\n",
      "Epoch 48/1000\n",
      "50/50 [==============================] - 13s 259ms/step - loss: 905.5804 - val_loss: 6202.2520 - lr: 1.0000e-04\n",
      "Epoch 49/1000\n",
      "50/50 [==============================] - 13s 258ms/step - loss: 883.6774 - val_loss: 6555.5967 - lr: 1.0000e-04\n",
      "Epoch 50/1000\n",
      "50/50 [==============================] - 13s 262ms/step - loss: 874.1746 - val_loss: 6303.9048 - lr: 1.0000e-04\n",
      "Epoch 51/1000\n",
      "50/50 [==============================] - 13s 264ms/step - loss: 867.8306 - val_loss: 6728.2441 - lr: 1.0000e-04\n",
      "Epoch 52/1000\n",
      "50/50 [==============================] - 13s 268ms/step - loss: 865.1956 - val_loss: 6346.5977 - lr: 1.0000e-04\n",
      "Epoch 53/1000\n",
      "50/50 [==============================] - 13s 269ms/step - loss: 823.9830 - val_loss: 6443.1191 - lr: 1.0000e-04\n",
      "Epoch 54/1000\n",
      "50/50 [==============================] - 13s 268ms/step - loss: 825.0266 - val_loss: 6295.9951 - lr: 5.0000e-05\n",
      "Epoch 55/1000\n",
      "50/50 [==============================] - 13s 269ms/step - loss: 770.9930 - val_loss: 6026.8057 - lr: 5.0000e-05\n",
      "Epoch 56/1000\n",
      "50/50 [==============================] - 13s 268ms/step - loss: 752.4096 - val_loss: 6650.7090 - lr: 5.0000e-05\n",
      "Epoch 57/1000\n",
      "50/50 [==============================] - 13s 268ms/step - loss: 752.0663 - val_loss: 6154.3765 - lr: 5.0000e-05\n",
      "Epoch 58/1000\n",
      "50/50 [==============================] - 14s 275ms/step - loss: 736.2047 - val_loss: 6567.9614 - lr: 5.0000e-05\n",
      "Epoch 59/1000\n",
      "50/50 [==============================] - 13s 269ms/step - loss: 733.7714 - val_loss: 6006.1025 - lr: 5.0000e-05\n",
      "Epoch 60/1000\n",
      "50/50 [==============================] - 14s 277ms/step - loss: 729.1290 - val_loss: 5946.7925 - lr: 5.0000e-05\n",
      "Epoch 61/1000\n",
      "50/50 [==============================] - 14s 286ms/step - loss: 714.6883 - val_loss: 5817.4448 - lr: 5.0000e-05\n",
      "Epoch 62/1000\n",
      "50/50 [==============================] - 14s 274ms/step - loss: 685.0822 - val_loss: 6200.7695 - lr: 5.0000e-05\n",
      "Epoch 63/1000\n",
      "50/50 [==============================] - 14s 275ms/step - loss: 696.7679 - val_loss: 6155.8945 - lr: 5.0000e-05\n",
      "Epoch 64/1000\n",
      "50/50 [==============================] - 14s 275ms/step - loss: 678.6099 - val_loss: 5935.0923 - lr: 5.0000e-05\n",
      "Epoch 65/1000\n",
      "50/50 [==============================] - 14s 280ms/step - loss: 668.8680 - val_loss: 5962.4912 - lr: 5.0000e-05\n",
      "Epoch 66/1000\n",
      "50/50 [==============================] - 14s 276ms/step - loss: 679.5974 - val_loss: 6387.4980 - lr: 5.0000e-05\n",
      "Epoch 67/1000\n",
      "50/50 [==============================] - 14s 277ms/step - loss: 656.1342 - val_loss: 6494.6133 - lr: 5.0000e-05\n",
      "Epoch 68/1000\n",
      "50/50 [==============================] - 14s 277ms/step - loss: 664.1946 - val_loss: 6140.7896 - lr: 5.0000e-05\n",
      "Epoch 69/1000\n",
      "50/50 [==============================] - 14s 278ms/step - loss: 649.2320 - val_loss: 5801.9399 - lr: 5.0000e-05\n",
      "Epoch 70/1000\n",
      "50/50 [==============================] - 14s 278ms/step - loss: 658.7634 - val_loss: 6152.0688 - lr: 5.0000e-05\n",
      "Epoch 71/1000\n",
      "50/50 [==============================] - 14s 277ms/step - loss: 627.8544 - val_loss: 5735.0405 - lr: 5.0000e-05\n",
      "Epoch 72/1000\n",
      "50/50 [==============================] - 15s 291ms/step - loss: 628.3910 - val_loss: 6401.7144 - lr: 5.0000e-05\n",
      "Epoch 73/1000\n",
      "50/50 [==============================] - 13s 268ms/step - loss: 635.5035 - val_loss: 6035.4146 - lr: 5.0000e-05\n",
      "Epoch 74/1000\n",
      "50/50 [==============================] - 13s 268ms/step - loss: 603.5251 - val_loss: 6025.4243 - lr: 5.0000e-05\n",
      "Epoch 75/1000\n",
      "50/50 [==============================] - 13s 266ms/step - loss: 604.0612 - val_loss: 6042.6211 - lr: 5.0000e-05\n",
      "Epoch 76/1000\n",
      "50/50 [==============================] - 14s 279ms/step - loss: 592.9067 - val_loss: 6054.5962 - lr: 5.0000e-05\n",
      "Epoch 77/1000\n",
      "50/50 [==============================] - 14s 286ms/step - loss: 578.0468 - val_loss: 6184.9751 - lr: 5.0000e-05\n",
      "Epoch 78/1000\n",
      "50/50 [==============================] - 14s 286ms/step - loss: 572.7378 - val_loss: 6164.4702 - lr: 5.0000e-05\n",
      "Epoch 79/1000\n",
      "50/50 [==============================] - 14s 277ms/step - loss: 589.3353 - val_loss: 6039.4292 - lr: 5.0000e-05\n",
      "Epoch 80/1000\n",
      "50/50 [==============================] - 14s 277ms/step - loss: 563.7784 - val_loss: 6165.7773 - lr: 5.0000e-05\n",
      "Epoch 81/1000\n",
      "50/50 [==============================] - 14s 276ms/step - loss: 552.8448 - val_loss: 6161.5049 - lr: 5.0000e-05\n",
      "Epoch 82/1000\n",
      "50/50 [==============================] - 14s 280ms/step - loss: 545.1460 - val_loss: 6037.4893 - lr: 2.5000e-05\n",
      "Epoch 83/1000\n",
      "50/50 [==============================] - 14s 279ms/step - loss: 519.4583 - val_loss: 6312.1855 - lr: 2.5000e-05\n",
      "Epoch 84/1000\n",
      "50/50 [==============================] - 14s 281ms/step - loss: 520.0535 - val_loss: 5891.5161 - lr: 2.5000e-05\n",
      "Epoch 85/1000\n",
      "50/50 [==============================] - 16s 318ms/step - loss: 503.8041 - val_loss: 6090.0850 - lr: 2.5000e-05\n",
      "Epoch 86/1000\n",
      "50/50 [==============================] - 14s 279ms/step - loss: 504.0802 - val_loss: 5828.5718 - lr: 2.5000e-05\n",
      "Epoch 87/1000\n",
      "50/50 [==============================] - 14s 280ms/step - loss: 519.6979 - val_loss: 5885.4785 - lr: 2.5000e-05\n",
      "Epoch 88/1000\n",
      "50/50 [==============================] - 15s 307ms/step - loss: 490.3656 - val_loss: 6243.4126 - lr: 2.5000e-05\n",
      "Epoch 89/1000\n",
      "50/50 [==============================] - 14s 274ms/step - loss: 502.8542 - val_loss: 5962.1646 - lr: 2.5000e-05\n",
      "Epoch 90/1000\n",
      "50/50 [==============================] - 14s 283ms/step - loss: 487.8325 - val_loss: 6231.7104 - lr: 2.5000e-05\n",
      "Epoch 91/1000\n",
      "50/50 [==============================] - 15s 301ms/step - loss: 480.9474 - val_loss: 5962.6069 - lr: 2.5000e-05\n"
     ]
    },
    {
     "data": {
      "image/png": "[encoded data removed]",
      "text/plain": [
       "<Figure size 640x480 with 1 Axes>"
      ]
     },
     "metadata": {},
     "output_type": "display_data"
    }
   ],
   "source": [
    "callbacks = [\n",
    "    tf.keras.callbacks.EarlyStopping(patience = 20, restore_best_weights = True, monitor = \"val_loss\"),\n",
    "    tf.keras.callbacks.ReduceLROnPlateau(monitor = \"val_loss\", factor = 0.5, patience = 10, verbose = False),\n",
    "]\n",
    "\n",
    "if True:\n",
    "    models_nocov = models[-1:]\n",
    "    X_train_nocov = X_train[-1:]\n",
    "    X_val_nocov = X_val[-1:]\n",
    "\n",
    "    optimizer = tf.keras.optimizers.Adam(learning_rate=0.0001)\n",
    "    ts_nocov = TrueSight(models_nocov, forecast_horizon, filter_size = 64, context_size = 256, hidden_size = 1024, dropout_rate = 0.1)\n",
    "    ts_nocov.compile(optimizer=optimizer, loss='mse')\n",
    "\n",
    "    ts_nocov.fit(\n",
    "        x = X_train_nocov, y = Y_train,\n",
    "        validation_data = [X_val_nocov, Y_val],\n",
    "        batch_size = 32,\n",
    "        epochs = 1000,\n",
    "        verbose = True,\n",
    "        callbacks = callbacks,\n",
    "    )\n",
    "    ts_nocov.plot_training_history()\n",
    "    ts_nocov.save_weights('nocov.h5')\n",
    "\n",
    "    models_wcov = models.copy()\n",
    "    X_train_wcov = X_train.copy()\n",
    "    X_val_wcov = X_val.copy()\n",
    "\n",
    "    optimizer = tf.keras.optimizers.Adam(learning_rate=0.0001)\n",
    "    ts_wcov= TrueSight(models_wcov, forecast_horizon, filter_size = 64, context_size = 256, hidden_size = 1024, dropout_rate = 0.1)\n",
    "    ts_wcov.compile(optimizer=optimizer, loss='mse')\n",
    "\n",
    "    ts_wcov.fit(\n",
    "        x = X_train_wcov, y = Y_train,\n",
    "        validation_data = [X_val_wcov, Y_val],\n",
    "        batch_size = 32,\n",
    "        epochs = 1000,\n",
    "        verbose = True,\n",
    "        callbacks = callbacks,\n",
    "    )\n",
    "    ts_wcov.plot_training_history()\n",
    "    ts_wcov.save_weights('ts_wcov.h5')\n",
    "\n",
    "    yhat_nocov = ts_nocov.predict(X_val_nocov, n_repeats = 100, n_quantiles = 15, verbose = False)\n",
    "    yhat_wcov = ts_wcov.predict(X_val_wcov, n_repeats = 100, n_quantiles = 15, verbose = False)\n",
    "else:\n",
    "    yhat_nocov = np.load('/content/drive/MyDrive/Forecast-M5/yhat_nocov.npy')\n",
    "    yhat_wcov = np.load('/content/drive/MyDrive/Forecast-M5/yhat_wcov.npy')"
   ]
  },
  {
   "cell_type": "code",
   "execution_count": 6,
   "metadata": {},
   "outputs": [
    {
     "data": {
      "text/plain": [
       "smape       0.635949\n",
       "mape        0.906003\n",
       "mse      6032.042383\n",
       "rmse       24.907961\n",
       "mae        21.524541\n",
       "dtype: float64"
      ]
     },
     "execution_count": 6,
     "metadata": {},
     "output_type": "execute_result"
    }
   ],
   "source": [
    "evaluator_wcov = Evaluator(X_val, Y_val, yhat_wcov, ids_val)\n",
    "evaluator_wcov.evaluate_prediction(evaluators = [smape, mape, mse, rmse, mae], return_mean = True)"
   ]
  },
  {
   "cell_type": "code",
   "execution_count": 7,
   "metadata": {},
   "outputs": [
    {
     "data": {
      "text/plain": [
       "smape       0.631802\n",
       "mape        0.857080\n",
       "mse      5424.136282\n",
       "rmse       24.713039\n",
       "mae        21.181338\n",
       "dtype: float64"
      ]
     },
     "execution_count": 7,
     "metadata": {},
     "output_type": "execute_result"
    }
   ],
   "source": [
    "evaluator_nocov = Evaluator(X_val, Y_val, yhat_nocov, ids_val)\n",
    "evaluator_nocov.evaluate_prediction(evaluators = [smape, mape, mse, rmse, mae], return_mean = True)"
   ]
  },
  {
   "cell_type": "code",
   "execution_count": 8,
   "metadata": {},
   "outputs": [
    {
     "data": {
      "text/plain": [
       "0.5761706563556722"
      ]
     },
     "execution_count": 8,
     "metadata": {},
     "output_type": "execute_result"
    }
   ],
   "source": [
    "r2_score(Y_val, yhat_wcov.mean(axis=0))"
   ]
  },
  {
   "cell_type": "code",
   "execution_count": 9,
   "metadata": {},
   "outputs": [
    {
     "data": {
      "text/plain": [
       "0.6196324525689844"
      ]
     },
     "execution_count": 9,
     "metadata": {},
     "output_type": "execute_result"
    }
   ],
   "source": [
    "r2_score(Y_val, yhat_nocov.mean(axis=0))"
   ]
  },
  {
   "cell_type": "code",
   "execution_count": 10,
   "metadata": {},
   "outputs": [
    {
     "name": "stdout",
     "output_type": "stream",
     "text": [
      "T-Statistic: -0.8276424380735107\n",
      "P-Value: 0.40812045891399185\n"
     ]
    }
   ],
   "source": [
    "group_a = r2_score(Y_val.T, yhat_wcov.mean(axis=0).T, multioutput='raw_values')\n",
    "group_b = r2_score(Y_val.T, yhat_nocov.mean(axis=0).T, multioutput='raw_values')\n",
    "\n",
    "t_statistic, p_value = stats.ttest_ind(group_a, group_b)\n",
    "\n",
    "print(\"T-Statistic:\", t_statistic)\n",
    "print(\"P-Value:\", p_value)"
   ]
  },
  {
   "cell_type": "code",
   "execution_count": 11,
   "metadata": {},
   "outputs": [
    {
     "name": "stdout",
     "output_type": "stream",
     "text": [
      "T-Statistic: 0.15370560952978193\n",
      "P-Value: 0.8778807220922604\n"
     ]
    }
   ],
   "source": [
    "group_a = smape(Y_val, yhat_wcov.mean(axis=0))\n",
    "group_b = smape(Y_val, yhat_nocov.mean(axis=0))\n",
    "\n",
    "t_statistic, p_value = stats.ttest_ind(group_a, group_b)\n",
    "\n",
    "print(\"T-Statistic:\", t_statistic)\n",
    "print(\"P-Value:\", p_value)"
   ]
  },
  {
   "cell_type": "code",
   "execution_count": 12,
   "metadata": {},
   "outputs": [
    {
     "name": "stdout",
     "output_type": "stream",
     "text": [
      "T-Statistic: 0.7417263519792812\n",
      "P-Value: 0.45847138491749007\n"
     ]
    }
   ],
   "source": [
    "group_a = mape(Y_val, yhat_wcov.mean(axis=0))\n",
    "group_b = mape(Y_val, yhat_nocov.mean(axis=0))\n",
    "\n",
    "t_statistic, p_value = stats.ttest_ind(group_a, group_b)\n",
    "\n",
    "print(\"T-Statistic:\", t_statistic)\n",
    "print(\"P-Value:\", p_value)"
   ]
  },
  {
   "cell_type": "code",
   "execution_count": 13,
   "metadata": {},
   "outputs": [
    {
     "name": "stdout",
     "output_type": "stream",
     "text": [
      "T-Statistic: 0.09929376787905456\n",
      "P-Value: 0.920929963839502\n"
     ]
    }
   ],
   "source": [
    "group_a = mse(Y_val, yhat_wcov.mean(axis=0))\n",
    "group_b = mse(Y_val, yhat_nocov.mean(axis=0))\n",
    "\n",
    "t_statistic, p_value = stats.ttest_ind(group_a, group_b)\n",
    "\n",
    "print(\"T-Statistic:\", t_statistic)\n",
    "print(\"P-Value:\", p_value)"
   ]
  },
  {
   "cell_type": "code",
   "execution_count": 14,
   "metadata": {},
   "outputs": [
    {
     "name": "stdout",
     "output_type": "stream",
     "text": [
      "T-Statistic: 0.03850494410144214\n",
      "P-Value: 0.9692947200439597\n"
     ]
    }
   ],
   "source": [
    "group_a = rmse(Y_val, yhat_wcov.mean(axis=0))\n",
    "group_b = rmse(Y_val, yhat_nocov.mean(axis=0))\n",
    "\n",
    "t_statistic, p_value = stats.ttest_ind(group_a, group_b)\n",
    "\n",
    "print(\"T-Statistic:\", t_statistic)\n",
    "print(\"P-Value:\", p_value)"
   ]
  },
  {
   "cell_type": "code",
   "execution_count": 15,
   "metadata": {},
   "outputs": [
    {
     "name": "stdout",
     "output_type": "stream",
     "text": [
      "T-Statistic: 0.0724677054956767\n",
      "P-Value: 0.9422478639797054\n"
     ]
    }
   ],
   "source": [
    "group_a = mae(Y_val, yhat_wcov.mean(axis=0))\n",
    "group_b = mae(Y_val, yhat_nocov.mean(axis=0))\n",
    "\n",
    "t_statistic, p_value = stats.ttest_ind(group_a, group_b)\n",
    "\n",
    "print(\"T-Statistic:\", t_statistic)\n",
    "print(\"P-Value:\", p_value)"
   ]
  }
 ],
 "metadata": {
  "kernelspec": {
   "display_name": "Python 3",
   "language": "python",
   "name": "python3"
  },
  "language_info": {
   "codemirror_mode": {
    "name": "ipython",
    "version": 3
   },
   "file_extension": ".py",
   "mimetype": "text/x-python",
   "name": "python",
   "nbconvert_exporter": "python",
   "pygments_lexer": "ipython3",
   "version": "3.10.11"
  },
  "orig_nbformat": 4
 },
 "nbformat": 4,
 "nbformat_minor": 2
}
