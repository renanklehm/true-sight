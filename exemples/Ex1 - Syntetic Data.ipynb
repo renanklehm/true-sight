{
 "cells": [
  {
   "cell_type": "code",
   "execution_count": 1,
   "metadata": {},
   "outputs": [],
   "source": [
    "import tensorflow as tf\n",
    "from truesight.preprocessing import Preprocessor\n",
    "from truesight.core import TrueSight\n",
    "from truesight.metrics import Evaluator, smape, mape, mse, rmse, mae\n",
    "from truesight.utils import AutoTune, generate_syntetic_data"
   ]
  },
  {
   "cell_type": "code",
   "execution_count": 2,
   "metadata": {},
   "outputs": [],
   "source": [
    "num_time_steps = 60\n",
    "season_length = 12\n",
    "forecast_horizon = 12\n",
    "df = generate_syntetic_data(num_time_steps, season_length, 100)"
   ]
  },
  {
   "cell_type": "code",
   "execution_count": null,
   "metadata": {},
   "outputs": [],
   "source": [
    "from statsforecast.models import SeasonalNaive, AutoETS\n",
    "from sklearn.linear_model import LinearRegression\n",
    "from truesight.models import AdditiveDecomposition\n",
    "from truesight.utils import ModelWrapper\n",
    "\n",
    "models = [\n",
    "    ModelWrapper(LinearRegression, horizon=forecast_horizon, season_length=season_length, alias=\"LinearRegression\"), \n",
    "    ModelWrapper(SeasonalNaive, horizon=forecast_horizon, season_length=season_length), \n",
    "    ModelWrapper(AutoETS, horizon=forecast_horizon, season_length=season_length),\n",
    "    ModelWrapper(AdditiveDecomposition, horizon=forecast_horizon, season_length=season_length)\n",
    "]\n",
    "\n",
    "preprocessor = Preprocessor(df)\n",
    "X_train, Y_train, ids_train, X_val, Y_val, ids_val, models = preprocessor.make_dataset(\n",
    "    forecast_horizon = 12, \n",
    "    season_length = 12,\n",
    "    date_freq = \"MS\", \n",
    "    models = models, \n",
    "    fallback_model = ModelWrapper(SeasonalNaive, horizon=forecast_horizon, season_length=season_length),\n",
    "    verbose = True\n",
    "    )"
   ]
  },
  {
   "cell_type": "code",
   "execution_count": null,
   "metadata": {},
   "outputs": [],
   "source": [
    "optimizer = tf.keras.optimizers.Adam\n",
    "hparams, optimizer = AutoTune(optimizer=optimizer).tune(X_train, Y_train, n_trials = 20, epochs = 10, batch_size = 32, stats_models = models)\n",
    "ts = TrueSight(models, forecast_horizon)\n",
    "ts.set_hparams(hparams)\n",
    "ts.compile(optimizer=optimizer, loss='mse')"
   ]
  },
  {
   "cell_type": "code",
   "execution_count": null,
   "metadata": {},
   "outputs": [],
   "source": [
    "callbacks = [\n",
    "    tf.keras.callbacks.EarlyStopping(patience = 100, restore_best_weights = True, monitor = \"val_loss\"),\n",
    "    tf.keras.callbacks.ReduceLROnPlateau(monitor = \"val_loss\", factor = 0.5, patience = 25, verbose = False),\n",
    "]\n",
    "ts.fit(\n",
    "    x = X_train, y = Y_train, \n",
    "    validation_data = [X_val, Y_val], \n",
    "    batch_size = 128, \n",
    "    epochs = 1000, \n",
    "    verbose = False, \n",
    "    callbacks = callbacks,\n",
    ")\n",
    "ts.plot_training_history()"
   ]
  },
  {
   "cell_type": "code",
   "execution_count": null,
   "metadata": {},
   "outputs": [],
   "source": [
    "yhat = ts.predict(X_val, n_repeats = 100, n_quantiles = 15, verbose = False)\n",
    "evaluator = Evaluator(X_val, Y_val, yhat, ids_val)\n",
    "evaluator.evaluate_prediction(evaluators = [smape, mape, mse, rmse, mae], return_mean = True)"
   ]
  },
  {
   "cell_type": "code",
   "execution_count": null,
   "metadata": {},
   "outputs": [],
   "source": [
    "evaluator.plot_exemple()"
   ]
  }
 ],
 "metadata": {
  "kernelspec": {
   "display_name": "Python 3",
   "language": "python",
   "name": "python3"
  },
  "language_info": {
   "codemirror_mode": {
    "name": "ipython",
    "version": 3
   },
   "file_extension": ".py",
   "mimetype": "text/x-python",
   "name": "python",
   "nbconvert_exporter": "python",
   "pygments_lexer": "ipython3",
   "version": "3.10.11"
  },
  "orig_nbformat": 4
 },
 "nbformat": 4,
 "nbformat_minor": 2
}
